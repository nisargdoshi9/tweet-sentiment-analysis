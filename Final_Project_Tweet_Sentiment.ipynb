{
  "nbformat": 4,
  "nbformat_minor": 0,
  "metadata": {
    "colab": {
      "name": "Final Project Tweet Sentiment.ipynb",
      "provenance": [],
      "authorship_tag": "ABX9TyPbrZqLGYxVz5t3BQsIcS/t",
      "include_colab_link": true
    },
    "kernelspec": {
      "name": "python3",
      "display_name": "Python 3"
    },
    "language_info": {
      "name": "python"
    }
  },
  "cells": [
    {
      "cell_type": "markdown",
      "metadata": {
        "id": "view-in-github",
        "colab_type": "text"
      },
      "source": [
        "<a href=\"https://colab.research.google.com/github/nisargdoshi9/woc4.0-ml-sentiment-analysis-nisarg/blob/main/Final_Project_Tweet_Sentiment.ipynb\" target=\"_parent\"><img src=\"https://colab.research.google.com/assets/colab-badge.svg\" alt=\"Open In Colab\"/></a>"
      ]
    },
    {
      "cell_type": "code",
      "execution_count": 118,
      "metadata": {
        "id": "hI1KiUQR3SUc"
      },
      "outputs": [],
      "source": [
        "# utilities\n",
        "import re\n",
        "import numpy as np\n",
        "import pandas as pd\n",
        "# plotting\n",
        "import seaborn as sns\n",
        "from wordcloud import WordCloud\n",
        "import matplotlib.pyplot as plt\n",
        "# nltk\n",
        "from nltk.stem import WordNetLemmatizer\n",
        "# sklearn\n",
        "from sklearn.svm import LinearSVC\n",
        "from sklearn.naive_bayes import BernoulliNB\n",
        "from sklearn.linear_model import LogisticRegression\n",
        "from sklearn.model_selection import train_test_split\n",
        "from sklearn.feature_extraction.text import TfidfVectorizer\n",
        "from sklearn.metrics import confusion_matrix, classification_report"
      ]
    },
    {
      "cell_type": "code",
      "source": [
        "COLS=['text','brand','emotion']\n",
        "df = pd.read_csv(r\"/content/judgetweets.csv\",encoding='ISO-8859-1',names=COLS)"
      ],
      "metadata": {
        "id": "YDtvzmTa4-xo"
      },
      "execution_count": 119,
      "outputs": []
    },
    {
      "cell_type": "code",
      "source": [
        "df = df.drop(df.index[0])\n",
        "df.head()"
      ],
      "metadata": {
        "colab": {
          "base_uri": "https://localhost:8080/",
          "height": 250
        },
        "id": "GQdI7xLC5Yxc",
        "outputId": "cc83509c-4ab5-493a-aa5a-4e74558a71fc"
      },
      "execution_count": 120,
      "outputs": [
        {
          "output_type": "execute_result",
          "data": {
            "text/html": [
              "\n",
              "  <div id=\"df-76d751fe-a280-460c-bc96-aedff81623f7\">\n",
              "    <div class=\"colab-df-container\">\n",
              "      <div>\n",
              "<style scoped>\n",
              "    .dataframe tbody tr th:only-of-type {\n",
              "        vertical-align: middle;\n",
              "    }\n",
              "\n",
              "    .dataframe tbody tr th {\n",
              "        vertical-align: top;\n",
              "    }\n",
              "\n",
              "    .dataframe thead th {\n",
              "        text-align: right;\n",
              "    }\n",
              "</style>\n",
              "<table border=\"1\" class=\"dataframe\">\n",
              "  <thead>\n",
              "    <tr style=\"text-align: right;\">\n",
              "      <th></th>\n",
              "      <th>text</th>\n",
              "      <th>brand</th>\n",
              "      <th>emotion</th>\n",
              "    </tr>\n",
              "  </thead>\n",
              "  <tbody>\n",
              "    <tr>\n",
              "      <th>1</th>\n",
              "      <td>.@wesley83 I have a 3G iPhone. After 3 hrs twe...</td>\n",
              "      <td>iPhone</td>\n",
              "      <td>Negative emotion</td>\n",
              "    </tr>\n",
              "    <tr>\n",
              "      <th>2</th>\n",
              "      <td>@jessedee Know about @fludapp ? Awesome iPad/i...</td>\n",
              "      <td>iPad or iPhone App</td>\n",
              "      <td>Positive emotion</td>\n",
              "    </tr>\n",
              "    <tr>\n",
              "      <th>3</th>\n",
              "      <td>@swonderlin Can not wait for #iPad 2 also. The...</td>\n",
              "      <td>iPad</td>\n",
              "      <td>Positive emotion</td>\n",
              "    </tr>\n",
              "    <tr>\n",
              "      <th>4</th>\n",
              "      <td>@sxsw I hope this year's festival isn't as cra...</td>\n",
              "      <td>iPad or iPhone App</td>\n",
              "      <td>Negative emotion</td>\n",
              "    </tr>\n",
              "    <tr>\n",
              "      <th>5</th>\n",
              "      <td>@sxtxstate great stuff on Fri #SXSW: Marissa M...</td>\n",
              "      <td>Google</td>\n",
              "      <td>Positive emotion</td>\n",
              "    </tr>\n",
              "  </tbody>\n",
              "</table>\n",
              "</div>\n",
              "      <button class=\"colab-df-convert\" onclick=\"convertToInteractive('df-76d751fe-a280-460c-bc96-aedff81623f7')\"\n",
              "              title=\"Convert this dataframe to an interactive table.\"\n",
              "              style=\"display:none;\">\n",
              "        \n",
              "  <svg xmlns=\"http://www.w3.org/2000/svg\" height=\"24px\"viewBox=\"0 0 24 24\"\n",
              "       width=\"24px\">\n",
              "    <path d=\"M0 0h24v24H0V0z\" fill=\"none\"/>\n",
              "    <path d=\"M18.56 5.44l.94 2.06.94-2.06 2.06-.94-2.06-.94-.94-2.06-.94 2.06-2.06.94zm-11 1L8.5 8.5l.94-2.06 2.06-.94-2.06-.94L8.5 2.5l-.94 2.06-2.06.94zm10 10l.94 2.06.94-2.06 2.06-.94-2.06-.94-.94-2.06-.94 2.06-2.06.94z\"/><path d=\"M17.41 7.96l-1.37-1.37c-.4-.4-.92-.59-1.43-.59-.52 0-1.04.2-1.43.59L10.3 9.45l-7.72 7.72c-.78.78-.78 2.05 0 2.83L4 21.41c.39.39.9.59 1.41.59.51 0 1.02-.2 1.41-.59l7.78-7.78 2.81-2.81c.8-.78.8-2.07 0-2.86zM5.41 20L4 18.59l7.72-7.72 1.47 1.35L5.41 20z\"/>\n",
              "  </svg>\n",
              "      </button>\n",
              "      \n",
              "  <style>\n",
              "    .colab-df-container {\n",
              "      display:flex;\n",
              "      flex-wrap:wrap;\n",
              "      gap: 12px;\n",
              "    }\n",
              "\n",
              "    .colab-df-convert {\n",
              "      background-color: #E8F0FE;\n",
              "      border: none;\n",
              "      border-radius: 50%;\n",
              "      cursor: pointer;\n",
              "      display: none;\n",
              "      fill: #1967D2;\n",
              "      height: 32px;\n",
              "      padding: 0 0 0 0;\n",
              "      width: 32px;\n",
              "    }\n",
              "\n",
              "    .colab-df-convert:hover {\n",
              "      background-color: #E2EBFA;\n",
              "      box-shadow: 0px 1px 2px rgba(60, 64, 67, 0.3), 0px 1px 3px 1px rgba(60, 64, 67, 0.15);\n",
              "      fill: #174EA6;\n",
              "    }\n",
              "\n",
              "    [theme=dark] .colab-df-convert {\n",
              "      background-color: #3B4455;\n",
              "      fill: #D2E3FC;\n",
              "    }\n",
              "\n",
              "    [theme=dark] .colab-df-convert:hover {\n",
              "      background-color: #434B5C;\n",
              "      box-shadow: 0px 1px 3px 1px rgba(0, 0, 0, 0.15);\n",
              "      filter: drop-shadow(0px 1px 2px rgba(0, 0, 0, 0.3));\n",
              "      fill: #FFFFFF;\n",
              "    }\n",
              "  </style>\n",
              "\n",
              "      <script>\n",
              "        const buttonEl =\n",
              "          document.querySelector('#df-76d751fe-a280-460c-bc96-aedff81623f7 button.colab-df-convert');\n",
              "        buttonEl.style.display =\n",
              "          google.colab.kernel.accessAllowed ? 'block' : 'none';\n",
              "\n",
              "        async function convertToInteractive(key) {\n",
              "          const element = document.querySelector('#df-76d751fe-a280-460c-bc96-aedff81623f7');\n",
              "          const dataTable =\n",
              "            await google.colab.kernel.invokeFunction('convertToInteractive',\n",
              "                                                     [key], {});\n",
              "          if (!dataTable) return;\n",
              "\n",
              "          const docLinkHtml = 'Like what you see? Visit the ' +\n",
              "            '<a target=\"_blank\" href=https://colab.research.google.com/notebooks/data_table.ipynb>data table notebook</a>'\n",
              "            + ' to learn more about interactive tables.';\n",
              "          element.innerHTML = '';\n",
              "          dataTable['output_type'] = 'display_data';\n",
              "          await google.colab.output.renderOutput(dataTable, element);\n",
              "          const docLink = document.createElement('div');\n",
              "          docLink.innerHTML = docLinkHtml;\n",
              "          element.appendChild(docLink);\n",
              "        }\n",
              "      </script>\n",
              "    </div>\n",
              "  </div>\n",
              "  "
            ],
            "text/plain": [
              "                                                text  ...           emotion\n",
              "1  .@wesley83 I have a 3G iPhone. After 3 hrs twe...  ...  Negative emotion\n",
              "2  @jessedee Know about @fludapp ? Awesome iPad/i...  ...  Positive emotion\n",
              "3  @swonderlin Can not wait for #iPad 2 also. The...  ...  Positive emotion\n",
              "4  @sxsw I hope this year's festival isn't as cra...  ...  Negative emotion\n",
              "5  @sxtxstate great stuff on Fri #SXSW: Marissa M...  ...  Positive emotion\n",
              "\n",
              "[5 rows x 3 columns]"
            ]
          },
          "metadata": {},
          "execution_count": 120
        }
      ]
    },
    {
      "cell_type": "code",
      "source": [
        "df.columns"
      ],
      "metadata": {
        "colab": {
          "base_uri": "https://localhost:8080/"
        },
        "id": "-_aKO_Ly5aOI",
        "outputId": "3029fe23-549f-46c2-f8cf-270d22ddc0f8"
      },
      "execution_count": 121,
      "outputs": [
        {
          "output_type": "execute_result",
          "data": {
            "text/plain": [
              "Index(['text', 'brand', 'emotion'], dtype='object')"
            ]
          },
          "metadata": {},
          "execution_count": 121
        }
      ]
    },
    {
      "cell_type": "code",
      "source": [
        "len(df)"
      ],
      "metadata": {
        "colab": {
          "base_uri": "https://localhost:8080/"
        },
        "id": "_jzFokC06bpV",
        "outputId": "193ba56a-ccff-4eff-d3c1-32c43ff49682"
      },
      "execution_count": 122,
      "outputs": [
        {
          "output_type": "execute_result",
          "data": {
            "text/plain": [
              "9093"
            ]
          },
          "metadata": {},
          "execution_count": 122
        }
      ]
    },
    {
      "cell_type": "code",
      "source": [
        "df.shape"
      ],
      "metadata": {
        "colab": {
          "base_uri": "https://localhost:8080/"
        },
        "id": "MNXEXir66inp",
        "outputId": "20e3788f-b512-4b3c-a374-3d29b1cd677d"
      },
      "execution_count": 123,
      "outputs": [
        {
          "output_type": "execute_result",
          "data": {
            "text/plain": [
              "(9093, 3)"
            ]
          },
          "metadata": {},
          "execution_count": 123
        }
      ]
    },
    {
      "cell_type": "code",
      "source": [
        "df.info()"
      ],
      "metadata": {
        "colab": {
          "base_uri": "https://localhost:8080/"
        },
        "id": "1lo99rOy6jxb",
        "outputId": "52aa4334-00fc-4544-c924-6bbb32a445cd"
      },
      "execution_count": 124,
      "outputs": [
        {
          "output_type": "stream",
          "name": "stdout",
          "text": [
            "<class 'pandas.core.frame.DataFrame'>\n",
            "Int64Index: 9093 entries, 1 to 9093\n",
            "Data columns (total 3 columns):\n",
            " #   Column   Non-Null Count  Dtype \n",
            "---  ------   --------------  ----- \n",
            " 0   text     9092 non-null   object\n",
            " 1   brand    3291 non-null   object\n",
            " 2   emotion  9093 non-null   object\n",
            "dtypes: object(3)\n",
            "memory usage: 284.2+ KB\n"
          ]
        }
      ]
    },
    {
      "cell_type": "code",
      "source": [
        "df.dtypes"
      ],
      "metadata": {
        "colab": {
          "base_uri": "https://localhost:8080/"
        },
        "id": "QLkVk3-t6nXh",
        "outputId": "7a76f099-9ffc-4232-d52b-ce46887a4c2d"
      },
      "execution_count": 125,
      "outputs": [
        {
          "output_type": "execute_result",
          "data": {
            "text/plain": [
              "text       object\n",
              "brand      object\n",
              "emotion    object\n",
              "dtype: object"
            ]
          },
          "metadata": {},
          "execution_count": 125
        }
      ]
    },
    {
      "cell_type": "code",
      "source": [
        "np.sum(df.isnull())"
      ],
      "metadata": {
        "colab": {
          "base_uri": "https://localhost:8080/"
        },
        "id": "d-PLzEx_6_BD",
        "outputId": "1c5480dc-edb2-47a9-e565-df6997b21df9"
      },
      "execution_count": 126,
      "outputs": [
        {
          "output_type": "execute_result",
          "data": {
            "text/plain": [
              "text          1\n",
              "brand      5802\n",
              "emotion       0\n",
              "dtype: int64"
            ]
          },
          "metadata": {},
          "execution_count": 126
        }
      ]
    },
    {
      "cell_type": "code",
      "source": [
        "#df = df.dropna(how='any',axis=0) \n",
        "df.brand=df.brand.fillna('Unknown')"
      ],
      "metadata": {
        "id": "voum53bT_pfL"
      },
      "execution_count": 127,
      "outputs": []
    },
    {
      "cell_type": "code",
      "source": [
        "np.sum(df.isnull())"
      ],
      "metadata": {
        "colab": {
          "base_uri": "https://localhost:8080/"
        },
        "id": "i37NBHeUJGgD",
        "outputId": "1117adf0-d42b-47e2-b90e-9a6a93a72407"
      },
      "execution_count": 128,
      "outputs": [
        {
          "output_type": "execute_result",
          "data": {
            "text/plain": [
              "text       1\n",
              "brand      0\n",
              "emotion    0\n",
              "dtype: int64"
            ]
          },
          "metadata": {},
          "execution_count": 128
        }
      ]
    },
    {
      "cell_type": "code",
      "source": [
        "df.head()\n",
        "df.shape"
      ],
      "metadata": {
        "colab": {
          "base_uri": "https://localhost:8080/"
        },
        "id": "h-uh2N9N-Vnc",
        "outputId": "562f6073-b398-45e8-d475-45d0308bfc16"
      },
      "execution_count": 129,
      "outputs": [
        {
          "output_type": "execute_result",
          "data": {
            "text/plain": [
              "(9093, 3)"
            ]
          },
          "metadata": {},
          "execution_count": 129
        }
      ]
    },
    {
      "cell_type": "code",
      "source": [
        "df.emotion.nunique()"
      ],
      "metadata": {
        "colab": {
          "base_uri": "https://localhost:8080/"
        },
        "id": "1MVTLO5z-WZf",
        "outputId": "72f4bf34-0e37-4afe-91e5-88857d289dd2"
      },
      "execution_count": 130,
      "outputs": [
        {
          "output_type": "execute_result",
          "data": {
            "text/plain": [
              "4"
            ]
          },
          "metadata": {},
          "execution_count": 130
        }
      ]
    },
    {
      "cell_type": "code",
      "source": [
        "lab = df.emotion.unique()\n",
        "lab=np.sort(lab)\n",
        "lab"
      ],
      "metadata": {
        "colab": {
          "base_uri": "https://localhost:8080/"
        },
        "id": "6FOX1HKqACSA",
        "outputId": "6d27819f-ab1b-4e6b-8dc1-e13b672e63b7"
      },
      "execution_count": 131,
      "outputs": [
        {
          "output_type": "execute_result",
          "data": {
            "text/plain": [
              "array([\"I can't tell\", 'Negative emotion',\n",
              "       'No emotion toward brand or product', 'Positive emotion'],\n",
              "      dtype=object)"
            ]
          },
          "metadata": {},
          "execution_count": 131
        }
      ]
    },
    {
      "cell_type": "code",
      "source": [
        "df.groupby('emotion').count()"
      ],
      "metadata": {
        "colab": {
          "base_uri": "https://localhost:8080/",
          "height": 206
        },
        "id": "leH7NFauBxGm",
        "outputId": "f59e36ae-cf9c-4de5-de43-8612108b371b"
      },
      "execution_count": 132,
      "outputs": [
        {
          "output_type": "execute_result",
          "data": {
            "text/html": [
              "\n",
              "  <div id=\"df-4d401e83-49bd-4f3e-b70c-798f32af3aee\">\n",
              "    <div class=\"colab-df-container\">\n",
              "      <div>\n",
              "<style scoped>\n",
              "    .dataframe tbody tr th:only-of-type {\n",
              "        vertical-align: middle;\n",
              "    }\n",
              "\n",
              "    .dataframe tbody tr th {\n",
              "        vertical-align: top;\n",
              "    }\n",
              "\n",
              "    .dataframe thead th {\n",
              "        text-align: right;\n",
              "    }\n",
              "</style>\n",
              "<table border=\"1\" class=\"dataframe\">\n",
              "  <thead>\n",
              "    <tr style=\"text-align: right;\">\n",
              "      <th></th>\n",
              "      <th>text</th>\n",
              "      <th>brand</th>\n",
              "    </tr>\n",
              "    <tr>\n",
              "      <th>emotion</th>\n",
              "      <th></th>\n",
              "      <th></th>\n",
              "    </tr>\n",
              "  </thead>\n",
              "  <tbody>\n",
              "    <tr>\n",
              "      <th>I can't tell</th>\n",
              "      <td>156</td>\n",
              "      <td>156</td>\n",
              "    </tr>\n",
              "    <tr>\n",
              "      <th>Negative emotion</th>\n",
              "      <td>570</td>\n",
              "      <td>570</td>\n",
              "    </tr>\n",
              "    <tr>\n",
              "      <th>No emotion toward brand or product</th>\n",
              "      <td>5388</td>\n",
              "      <td>5389</td>\n",
              "    </tr>\n",
              "    <tr>\n",
              "      <th>Positive emotion</th>\n",
              "      <td>2978</td>\n",
              "      <td>2978</td>\n",
              "    </tr>\n",
              "  </tbody>\n",
              "</table>\n",
              "</div>\n",
              "      <button class=\"colab-df-convert\" onclick=\"convertToInteractive('df-4d401e83-49bd-4f3e-b70c-798f32af3aee')\"\n",
              "              title=\"Convert this dataframe to an interactive table.\"\n",
              "              style=\"display:none;\">\n",
              "        \n",
              "  <svg xmlns=\"http://www.w3.org/2000/svg\" height=\"24px\"viewBox=\"0 0 24 24\"\n",
              "       width=\"24px\">\n",
              "    <path d=\"M0 0h24v24H0V0z\" fill=\"none\"/>\n",
              "    <path d=\"M18.56 5.44l.94 2.06.94-2.06 2.06-.94-2.06-.94-.94-2.06-.94 2.06-2.06.94zm-11 1L8.5 8.5l.94-2.06 2.06-.94-2.06-.94L8.5 2.5l-.94 2.06-2.06.94zm10 10l.94 2.06.94-2.06 2.06-.94-2.06-.94-.94-2.06-.94 2.06-2.06.94z\"/><path d=\"M17.41 7.96l-1.37-1.37c-.4-.4-.92-.59-1.43-.59-.52 0-1.04.2-1.43.59L10.3 9.45l-7.72 7.72c-.78.78-.78 2.05 0 2.83L4 21.41c.39.39.9.59 1.41.59.51 0 1.02-.2 1.41-.59l7.78-7.78 2.81-2.81c.8-.78.8-2.07 0-2.86zM5.41 20L4 18.59l7.72-7.72 1.47 1.35L5.41 20z\"/>\n",
              "  </svg>\n",
              "      </button>\n",
              "      \n",
              "  <style>\n",
              "    .colab-df-container {\n",
              "      display:flex;\n",
              "      flex-wrap:wrap;\n",
              "      gap: 12px;\n",
              "    }\n",
              "\n",
              "    .colab-df-convert {\n",
              "      background-color: #E8F0FE;\n",
              "      border: none;\n",
              "      border-radius: 50%;\n",
              "      cursor: pointer;\n",
              "      display: none;\n",
              "      fill: #1967D2;\n",
              "      height: 32px;\n",
              "      padding: 0 0 0 0;\n",
              "      width: 32px;\n",
              "    }\n",
              "\n",
              "    .colab-df-convert:hover {\n",
              "      background-color: #E2EBFA;\n",
              "      box-shadow: 0px 1px 2px rgba(60, 64, 67, 0.3), 0px 1px 3px 1px rgba(60, 64, 67, 0.15);\n",
              "      fill: #174EA6;\n",
              "    }\n",
              "\n",
              "    [theme=dark] .colab-df-convert {\n",
              "      background-color: #3B4455;\n",
              "      fill: #D2E3FC;\n",
              "    }\n",
              "\n",
              "    [theme=dark] .colab-df-convert:hover {\n",
              "      background-color: #434B5C;\n",
              "      box-shadow: 0px 1px 3px 1px rgba(0, 0, 0, 0.15);\n",
              "      filter: drop-shadow(0px 1px 2px rgba(0, 0, 0, 0.3));\n",
              "      fill: #FFFFFF;\n",
              "    }\n",
              "  </style>\n",
              "\n",
              "      <script>\n",
              "        const buttonEl =\n",
              "          document.querySelector('#df-4d401e83-49bd-4f3e-b70c-798f32af3aee button.colab-df-convert');\n",
              "        buttonEl.style.display =\n",
              "          google.colab.kernel.accessAllowed ? 'block' : 'none';\n",
              "\n",
              "        async function convertToInteractive(key) {\n",
              "          const element = document.querySelector('#df-4d401e83-49bd-4f3e-b70c-798f32af3aee');\n",
              "          const dataTable =\n",
              "            await google.colab.kernel.invokeFunction('convertToInteractive',\n",
              "                                                     [key], {});\n",
              "          if (!dataTable) return;\n",
              "\n",
              "          const docLinkHtml = 'Like what you see? Visit the ' +\n",
              "            '<a target=\"_blank\" href=https://colab.research.google.com/notebooks/data_table.ipynb>data table notebook</a>'\n",
              "            + ' to learn more about interactive tables.';\n",
              "          element.innerHTML = '';\n",
              "          dataTable['output_type'] = 'display_data';\n",
              "          await google.colab.output.renderOutput(dataTable, element);\n",
              "          const docLink = document.createElement('div');\n",
              "          docLink.innerHTML = docLinkHtml;\n",
              "          element.appendChild(docLink);\n",
              "        }\n",
              "      </script>\n",
              "    </div>\n",
              "  </div>\n",
              "  "
            ],
            "text/plain": [
              "                                    text  brand\n",
              "emotion                                        \n",
              "I can't tell                         156    156\n",
              "Negative emotion                     570    570\n",
              "No emotion toward brand or product  5388   5389\n",
              "Positive emotion                    2978   2978"
            ]
          },
          "metadata": {},
          "execution_count": 132
        }
      ]
    },
    {
      "cell_type": "code",
      "source": [
        "ax=df.groupby('emotion').count()\n",
        "pl=ax.plot(kind='bar',title='Emotion distriuition',legend=False)\n",
        "pl.set_xticklabels(lab,rotation=0)"
      ],
      "metadata": {
        "colab": {
          "base_uri": "https://localhost:8080/",
          "height": 365
        },
        "id": "AqGDg7b-AFOQ",
        "outputId": "a3cd3a19-bb0c-4350-85d0-1590dce3a3c7"
      },
      "execution_count": 133,
      "outputs": [
        {
          "output_type": "execute_result",
          "data": {
            "text/plain": [
              "[Text(0, 0, \"I can't tell\"),\n",
              " Text(0, 0, 'Negative emotion'),\n",
              " Text(0, 0, 'No emotion toward brand or product'),\n",
              " Text(0, 0, 'Positive emotion')]"
            ]
          },
          "metadata": {},
          "execution_count": 133
        },
        {
          "output_type": "display_data",
          "data": {
            "image/png": "[encoded data removed]",
            "text/plain": [
              "<Figure size 432x288 with 1 Axes>"
            ]
          },
          "metadata": {
            "needs_background": "light"
          }
        }
      ]
    },
    {
      "cell_type": "code",
      "source": [
        "#df.drop(df.index[6])"
      ],
      "metadata": {
        "id": "mLOEdJpsFcp4"
      },
      "execution_count": 134,
      "outputs": []
    },
    {
      "cell_type": "code",
      "source": [
        "# for i in range(len(df.emotion)):\n",
        "#   df['Num_emotion']=None\n",
        "\n",
        "# for i in range(len(df.emotion)):\n",
        "#   if df.emotion[i]=='I can\\'t tell':\n",
        "#     df['Num_emotion']=None\n",
        "#   elif df.emotion[i]=='Negative emotion':\n",
        "#     df['Num_emotion']=0\n",
        "#   elif df.emotion[i]=='No emotion toward brand or product':\n",
        "#     df['Num_emotion']=1\n",
        "#   elif df.emotion[i]=='Positive emotion':\n",
        "#     df['Num_emotion']=2\n"
      ],
      "metadata": {
        "id": "hYKZL5YLCdOm"
      },
      "execution_count": 135,
      "outputs": []
    },
    {
      "cell_type": "code",
      "source": [
        "df.emotion = df.emotion.replace({\"I can't tell\":0, 'Negative emotion':1,\n",
        "       'No emotion toward brand or product':2, 'Positive emotion':3})"
      ],
      "metadata": {
        "id": "9_xImjE4NhX4"
      },
      "execution_count": 136,
      "outputs": []
    },
    {
      "cell_type": "code",
      "source": [
        "df.emotion"
      ],
      "metadata": {
        "colab": {
          "base_uri": "https://localhost:8080/"
        },
        "id": "O_CnrviuOHxD",
        "outputId": "35add123-3c35-4a69-8ad9-bc1c1651f5ae"
      },
      "execution_count": 137,
      "outputs": [
        {
          "output_type": "execute_result",
          "data": {
            "text/plain": [
              "1       1\n",
              "2       3\n",
              "3       3\n",
              "4       1\n",
              "5       3\n",
              "       ..\n",
              "9089    3\n",
              "9090    2\n",
              "9091    2\n",
              "9092    2\n",
              "9093    2\n",
              "Name: emotion, Length: 9093, dtype: int64"
            ]
          },
          "metadata": {},
          "execution_count": 137
        }
      ]
    },
    {
      "cell_type": "code",
      "source": [
        "text,brand,emotion=list(df.text),list(df.brand),list(df.emotion)"
      ],
      "metadata": {
        "id": "MzlmlyV8CNm6"
      },
      "execution_count": 138,
      "outputs": []
    },
    {
      "cell_type": "code",
      "source": [
        "df_pos=df[df.emotion==3].iloc[:570]\n",
        "df_neutral=df[df.emotion==2].iloc[:570]\n",
        "df_neg=df[df.emotion==1]"
      ],
      "metadata": {
        "id": "ZKaFmmsOOMh7"
      },
      "execution_count": 139,
      "outputs": []
    },
    {
      "cell_type": "code",
      "source": [
        "df_neg"
      ],
      "metadata": {
        "colab": {
          "base_uri": "https://localhost:8080/",
          "height": 520
        },
        "id": "_mifYeRtPun5",
        "outputId": "4e307ae2-0a6a-4921-b929-0f1193684df4"
      },
      "execution_count": 140,
      "outputs": [
        {
          "output_type": "execute_result",
          "data": {
            "text/html": [
              "\n",
              "  <div id=\"df-ed51d9ab-4cdb-421d-bb75-07afd6b5db37\">\n",
              "    <div class=\"colab-df-container\">\n",
              "      <div>\n",
              "<style scoped>\n",
              "    .dataframe tbody tr th:only-of-type {\n",
              "        vertical-align: middle;\n",
              "    }\n",
              "\n",
              "    .dataframe tbody tr th {\n",
              "        vertical-align: top;\n",
              "    }\n",
              "\n",
              "    .dataframe thead th {\n",
              "        text-align: right;\n",
              "    }\n",
              "</style>\n",
              "<table border=\"1\" class=\"dataframe\">\n",
              "  <thead>\n",
              "    <tr style=\"text-align: right;\">\n",
              "      <th></th>\n",
              "      <th>text</th>\n",
              "      <th>brand</th>\n",
              "      <th>emotion</th>\n",
              "    </tr>\n",
              "  </thead>\n",
              "  <tbody>\n",
              "    <tr>\n",
              "      <th>1</th>\n",
              "      <td>.@wesley83 I have a 3G iPhone. After 3 hrs twe...</td>\n",
              "      <td>iPhone</td>\n",
              "      <td>1</td>\n",
              "    </tr>\n",
              "    <tr>\n",
              "      <th>4</th>\n",
              "      <td>@sxsw I hope this year's festival isn't as cra...</td>\n",
              "      <td>iPad or iPhone App</td>\n",
              "      <td>1</td>\n",
              "    </tr>\n",
              "    <tr>\n",
              "      <th>18</th>\n",
              "      <td>I just noticed DST is coming this weekend. How...</td>\n",
              "      <td>iPhone</td>\n",
              "      <td>1</td>\n",
              "    </tr>\n",
              "    <tr>\n",
              "      <th>39</th>\n",
              "      <td>@mention  - False Alarm: Google Circles Not Co...</td>\n",
              "      <td>Google</td>\n",
              "      <td>1</td>\n",
              "    </tr>\n",
              "    <tr>\n",
              "      <th>65</th>\n",
              "      <td>Again? RT @mention Line at the Apple store is ...</td>\n",
              "      <td>Unknown</td>\n",
              "      <td>1</td>\n",
              "    </tr>\n",
              "    <tr>\n",
              "      <th>...</th>\n",
              "      <td>...</td>\n",
              "      <td>...</td>\n",
              "      <td>...</td>\n",
              "    </tr>\n",
              "    <tr>\n",
              "      <th>8974</th>\n",
              "      <td>Google guy at #sxsw talk is explaining how he ...</td>\n",
              "      <td>Unknown</td>\n",
              "      <td>1</td>\n",
              "    </tr>\n",
              "    <tr>\n",
              "      <th>8982</th>\n",
              "      <td>I think my effing hubby is in line for an #iPa...</td>\n",
              "      <td>iPad</td>\n",
              "      <td>1</td>\n",
              "    </tr>\n",
              "    <tr>\n",
              "      <th>9009</th>\n",
              "      <td>I'm pretty sure the panelist that thinks &amp;quot...</td>\n",
              "      <td>Apple</td>\n",
              "      <td>1</td>\n",
              "    </tr>\n",
              "    <tr>\n",
              "      <th>9044</th>\n",
              "      <td>Hey is anyone doing #sxsw signing up for the g...</td>\n",
              "      <td>Unknown</td>\n",
              "      <td>1</td>\n",
              "    </tr>\n",
              "    <tr>\n",
              "      <th>9081</th>\n",
              "      <td>Diller says Google TV &amp;quot;might be run over ...</td>\n",
              "      <td>Other Google product or service</td>\n",
              "      <td>1</td>\n",
              "    </tr>\n",
              "  </tbody>\n",
              "</table>\n",
              "<p>570 rows × 3 columns</p>\n",
              "</div>\n",
              "      <button class=\"colab-df-convert\" onclick=\"convertToInteractive('df-ed51d9ab-4cdb-421d-bb75-07afd6b5db37')\"\n",
              "              title=\"Convert this dataframe to an interactive table.\"\n",
              "              style=\"display:none;\">\n",
              "        \n",
              "  <svg xmlns=\"http://www.w3.org/2000/svg\" height=\"24px\"viewBox=\"0 0 24 24\"\n",
              "       width=\"24px\">\n",
              "    <path d=\"M0 0h24v24H0V0z\" fill=\"none\"/>\n",
              "    <path d=\"M18.56 5.44l.94 2.06.94-2.06 2.06-.94-2.06-.94-.94-2.06-.94 2.06-2.06.94zm-11 1L8.5 8.5l.94-2.06 2.06-.94-2.06-.94L8.5 2.5l-.94 2.06-2.06.94zm10 10l.94 2.06.94-2.06 2.06-.94-2.06-.94-.94-2.06-.94 2.06-2.06.94z\"/><path d=\"M17.41 7.96l-1.37-1.37c-.4-.4-.92-.59-1.43-.59-.52 0-1.04.2-1.43.59L10.3 9.45l-7.72 7.72c-.78.78-.78 2.05 0 2.83L4 21.41c.39.39.9.59 1.41.59.51 0 1.02-.2 1.41-.59l7.78-7.78 2.81-2.81c.8-.78.8-2.07 0-2.86zM5.41 20L4 18.59l7.72-7.72 1.47 1.35L5.41 20z\"/>\n",
              "  </svg>\n",
              "      </button>\n",
              "      \n",
              "  <style>\n",
              "    .colab-df-container {\n",
              "      display:flex;\n",
              "      flex-wrap:wrap;\n",
              "      gap: 12px;\n",
              "    }\n",
              "\n",
              "    .colab-df-convert {\n",
              "      background-color: #E8F0FE;\n",
              "      border: none;\n",
              "      border-radius: 50%;\n",
              "      cursor: pointer;\n",
              "      display: none;\n",
              "      fill: #1967D2;\n",
              "      height: 32px;\n",
              "      padding: 0 0 0 0;\n",
              "      width: 32px;\n",
              "    }\n",
              "\n",
              "    .colab-df-convert:hover {\n",
              "      background-color: #E2EBFA;\n",
              "      box-shadow: 0px 1px 2px rgba(60, 64, 67, 0.3), 0px 1px 3px 1px rgba(60, 64, 67, 0.15);\n",
              "      fill: #174EA6;\n",
              "    }\n",
              "\n",
              "    [theme=dark] .colab-df-convert {\n",
              "      background-color: #3B4455;\n",
              "      fill: #D2E3FC;\n",
              "    }\n",
              "\n",
              "    [theme=dark] .colab-df-convert:hover {\n",
              "      background-color: #434B5C;\n",
              "      box-shadow: 0px 1px 3px 1px rgba(0, 0, 0, 0.15);\n",
              "      filter: drop-shadow(0px 1px 2px rgba(0, 0, 0, 0.3));\n",
              "      fill: #FFFFFF;\n",
              "    }\n",
              "  </style>\n",
              "\n",
              "      <script>\n",
              "        const buttonEl =\n",
              "          document.querySelector('#df-ed51d9ab-4cdb-421d-bb75-07afd6b5db37 button.colab-df-convert');\n",
              "        buttonEl.style.display =\n",
              "          google.colab.kernel.accessAllowed ? 'block' : 'none';\n",
              "\n",
              "        async function convertToInteractive(key) {\n",
              "          const element = document.querySelector('#df-ed51d9ab-4cdb-421d-bb75-07afd6b5db37');\n",
              "          const dataTable =\n",
              "            await google.colab.kernel.invokeFunction('convertToInteractive',\n",
              "                                                     [key], {});\n",
              "          if (!dataTable) return;\n",
              "\n",
              "          const docLinkHtml = 'Like what you see? Visit the ' +\n",
              "            '<a target=\"_blank\" href=https://colab.research.google.com/notebooks/data_table.ipynb>data table notebook</a>'\n",
              "            + ' to learn more about interactive tables.';\n",
              "          element.innerHTML = '';\n",
              "          dataTable['output_type'] = 'display_data';\n",
              "          await google.colab.output.renderOutput(dataTable, element);\n",
              "          const docLink = document.createElement('div');\n",
              "          docLink.innerHTML = docLinkHtml;\n",
              "          element.appendChild(docLink);\n",
              "        }\n",
              "      </script>\n",
              "    </div>\n",
              "  </div>\n",
              "  "
            ],
            "text/plain": [
              "                                                   text  ... emotion\n",
              "1     .@wesley83 I have a 3G iPhone. After 3 hrs twe...  ...       1\n",
              "4     @sxsw I hope this year's festival isn't as cra...  ...       1\n",
              "18    I just noticed DST is coming this weekend. How...  ...       1\n",
              "39    @mention  - False Alarm: Google Circles Not Co...  ...       1\n",
              "65    Again? RT @mention Line at the Apple store is ...  ...       1\n",
              "...                                                 ...  ...     ...\n",
              "8974  Google guy at #sxsw talk is explaining how he ...  ...       1\n",
              "8982  I think my effing hubby is in line for an #iPa...  ...       1\n",
              "9009  I'm pretty sure the panelist that thinks &quot...  ...       1\n",
              "9044  Hey is anyone doing #sxsw signing up for the g...  ...       1\n",
              "9081  Diller says Google TV &quot;might be run over ...  ...       1\n",
              "\n",
              "[570 rows x 3 columns]"
            ]
          },
          "metadata": {},
          "execution_count": 140
        }
      ]
    },
    {
      "cell_type": "code",
      "source": [
        "final = pd.concat([df_pos,df_neutral,df_neg],axis=0)"
      ],
      "metadata": {
        "id": "YiD0K2yWQRH8"
      },
      "execution_count": 141,
      "outputs": []
    },
    {
      "cell_type": "code",
      "source": [
        "df_pos.head()"
      ],
      "metadata": {
        "colab": {
          "base_uri": "https://localhost:8080/",
          "height": 206
        },
        "id": "a1m5xBocRMyI",
        "outputId": "ab7de7cd-add6-429b-8c41-b1b9f43998a2"
      },
      "execution_count": 142,
      "outputs": [
        {
          "output_type": "execute_result",
          "data": {
            "text/html": [
              "\n",
              "  <div id=\"df-bc18f581-5b26-4f41-9d2c-e0c16bfd656c\">\n",
              "    <div class=\"colab-df-container\">\n",
              "      <div>\n",
              "<style scoped>\n",
              "    .dataframe tbody tr th:only-of-type {\n",
              "        vertical-align: middle;\n",
              "    }\n",
              "\n",
              "    .dataframe tbody tr th {\n",
              "        vertical-align: top;\n",
              "    }\n",
              "\n",
              "    .dataframe thead th {\n",
              "        text-align: right;\n",
              "    }\n",
              "</style>\n",
              "<table border=\"1\" class=\"dataframe\">\n",
              "  <thead>\n",
              "    <tr style=\"text-align: right;\">\n",
              "      <th></th>\n",
              "      <th>text</th>\n",
              "      <th>brand</th>\n",
              "      <th>emotion</th>\n",
              "    </tr>\n",
              "  </thead>\n",
              "  <tbody>\n",
              "    <tr>\n",
              "      <th>2</th>\n",
              "      <td>@jessedee Know about @fludapp ? Awesome iPad/i...</td>\n",
              "      <td>iPad or iPhone App</td>\n",
              "      <td>3</td>\n",
              "    </tr>\n",
              "    <tr>\n",
              "      <th>3</th>\n",
              "      <td>@swonderlin Can not wait for #iPad 2 also. The...</td>\n",
              "      <td>iPad</td>\n",
              "      <td>3</td>\n",
              "    </tr>\n",
              "    <tr>\n",
              "      <th>5</th>\n",
              "      <td>@sxtxstate great stuff on Fri #SXSW: Marissa M...</td>\n",
              "      <td>Google</td>\n",
              "      <td>3</td>\n",
              "    </tr>\n",
              "    <tr>\n",
              "      <th>8</th>\n",
              "      <td>#SXSW is just starting, #CTIA is around the co...</td>\n",
              "      <td>Android</td>\n",
              "      <td>3</td>\n",
              "    </tr>\n",
              "    <tr>\n",
              "      <th>9</th>\n",
              "      <td>Beautifully smart and simple idea RT @madebyma...</td>\n",
              "      <td>iPad or iPhone App</td>\n",
              "      <td>3</td>\n",
              "    </tr>\n",
              "  </tbody>\n",
              "</table>\n",
              "</div>\n",
              "      <button class=\"colab-df-convert\" onclick=\"convertToInteractive('df-bc18f581-5b26-4f41-9d2c-e0c16bfd656c')\"\n",
              "              title=\"Convert this dataframe to an interactive table.\"\n",
              "              style=\"display:none;\">\n",
              "        \n",
              "  <svg xmlns=\"http://www.w3.org/2000/svg\" height=\"24px\"viewBox=\"0 0 24 24\"\n",
              "       width=\"24px\">\n",
              "    <path d=\"M0 0h24v24H0V0z\" fill=\"none\"/>\n",
              "    <path d=\"M18.56 5.44l.94 2.06.94-2.06 2.06-.94-2.06-.94-.94-2.06-.94 2.06-2.06.94zm-11 1L8.5 8.5l.94-2.06 2.06-.94-2.06-.94L8.5 2.5l-.94 2.06-2.06.94zm10 10l.94 2.06.94-2.06 2.06-.94-2.06-.94-.94-2.06-.94 2.06-2.06.94z\"/><path d=\"M17.41 7.96l-1.37-1.37c-.4-.4-.92-.59-1.43-.59-.52 0-1.04.2-1.43.59L10.3 9.45l-7.72 7.72c-.78.78-.78 2.05 0 2.83L4 21.41c.39.39.9.59 1.41.59.51 0 1.02-.2 1.41-.59l7.78-7.78 2.81-2.81c.8-.78.8-2.07 0-2.86zM5.41 20L4 18.59l7.72-7.72 1.47 1.35L5.41 20z\"/>\n",
              "  </svg>\n",
              "      </button>\n",
              "      \n",
              "  <style>\n",
              "    .colab-df-container {\n",
              "      display:flex;\n",
              "      flex-wrap:wrap;\n",
              "      gap: 12px;\n",
              "    }\n",
              "\n",
              "    .colab-df-convert {\n",
              "      background-color: #E8F0FE;\n",
              "      border: none;\n",
              "      border-radius: 50%;\n",
              "      cursor: pointer;\n",
              "      display: none;\n",
              "      fill: #1967D2;\n",
              "      height: 32px;\n",
              "      padding: 0 0 0 0;\n",
              "      width: 32px;\n",
              "    }\n",
              "\n",
              "    .colab-df-convert:hover {\n",
              "      background-color: #E2EBFA;\n",
              "      box-shadow: 0px 1px 2px rgba(60, 64, 67, 0.3), 0px 1px 3px 1px rgba(60, 64, 67, 0.15);\n",
              "      fill: #174EA6;\n",
              "    }\n",
              "\n",
              "    [theme=dark] .colab-df-convert {\n",
              "      background-color: #3B4455;\n",
              "      fill: #D2E3FC;\n",
              "    }\n",
              "\n",
              "    [theme=dark] .colab-df-convert:hover {\n",
              "      background-color: #434B5C;\n",
              "      box-shadow: 0px 1px 3px 1px rgba(0, 0, 0, 0.15);\n",
              "      filter: drop-shadow(0px 1px 2px rgba(0, 0, 0, 0.3));\n",
              "      fill: #FFFFFF;\n",
              "    }\n",
              "  </style>\n",
              "\n",
              "      <script>\n",
              "        const buttonEl =\n",
              "          document.querySelector('#df-bc18f581-5b26-4f41-9d2c-e0c16bfd656c button.colab-df-convert');\n",
              "        buttonEl.style.display =\n",
              "          google.colab.kernel.accessAllowed ? 'block' : 'none';\n",
              "\n",
              "        async function convertToInteractive(key) {\n",
              "          const element = document.querySelector('#df-bc18f581-5b26-4f41-9d2c-e0c16bfd656c');\n",
              "          const dataTable =\n",
              "            await google.colab.kernel.invokeFunction('convertToInteractive',\n",
              "                                                     [key], {});\n",
              "          if (!dataTable) return;\n",
              "\n",
              "          const docLinkHtml = 'Like what you see? Visit the ' +\n",
              "            '<a target=\"_blank\" href=https://colab.research.google.com/notebooks/data_table.ipynb>data table notebook</a>'\n",
              "            + ' to learn more about interactive tables.';\n",
              "          element.innerHTML = '';\n",
              "          dataTable['output_type'] = 'display_data';\n",
              "          await google.colab.output.renderOutput(dataTable, element);\n",
              "          const docLink = document.createElement('div');\n",
              "          docLink.innerHTML = docLinkHtml;\n",
              "          element.appendChild(docLink);\n",
              "        }\n",
              "      </script>\n",
              "    </div>\n",
              "  </div>\n",
              "  "
            ],
            "text/plain": [
              "                                                text  ... emotion\n",
              "2  @jessedee Know about @fludapp ? Awesome iPad/i...  ...       3\n",
              "3  @swonderlin Can not wait for #iPad 2 also. The...  ...       3\n",
              "5  @sxtxstate great stuff on Fri #SXSW: Marissa M...  ...       3\n",
              "8  #SXSW is just starting, #CTIA is around the co...  ...       3\n",
              "9  Beautifully smart and simple idea RT @madebyma...  ...       3\n",
              "\n",
              "[5 rows x 3 columns]"
            ]
          },
          "metadata": {},
          "execution_count": 142
        }
      ]
    },
    {
      "cell_type": "code",
      "source": [
        "final.sample(5)"
      ],
      "metadata": {
        "colab": {
          "base_uri": "https://localhost:8080/",
          "height": 206
        },
        "id": "sONEBvWGRHck",
        "outputId": "cd44a0e1-e65c-422a-bf30-c0103da67f1c"
      },
      "execution_count": 143,
      "outputs": [
        {
          "output_type": "execute_result",
          "data": {
            "text/html": [
              "\n",
              "  <div id=\"df-40a25972-5172-4151-b8e8-713b0e8beac1\">\n",
              "    <div class=\"colab-df-container\">\n",
              "      <div>\n",
              "<style scoped>\n",
              "    .dataframe tbody tr th:only-of-type {\n",
              "        vertical-align: middle;\n",
              "    }\n",
              "\n",
              "    .dataframe tbody tr th {\n",
              "        vertical-align: top;\n",
              "    }\n",
              "\n",
              "    .dataframe thead th {\n",
              "        text-align: right;\n",
              "    }\n",
              "</style>\n",
              "<table border=\"1\" class=\"dataframe\">\n",
              "  <thead>\n",
              "    <tr style=\"text-align: right;\">\n",
              "      <th></th>\n",
              "      <th>text</th>\n",
              "      <th>brand</th>\n",
              "      <th>emotion</th>\n",
              "    </tr>\n",
              "  </thead>\n",
              "  <tbody>\n",
              "    <tr>\n",
              "      <th>452</th>\n",
              "      <td>ÛÏ@mention Download 20+ FREE tracks from the ...</td>\n",
              "      <td>Unknown</td>\n",
              "      <td>2</td>\n",
              "    </tr>\n",
              "    <tr>\n",
              "      <th>851</th>\n",
              "      <td>Getting a look at Google's Impact Dashboard fo...</td>\n",
              "      <td>Unknown</td>\n",
              "      <td>2</td>\n",
              "    </tr>\n",
              "    <tr>\n",
              "      <th>790</th>\n",
              "      <td>Google to Launch Major New Social Network Call...</td>\n",
              "      <td>Unknown</td>\n",
              "      <td>2</td>\n",
              "    </tr>\n",
              "    <tr>\n",
              "      <th>206</th>\n",
              "      <td>Wandering 6th street with the girls. Stopped f...</td>\n",
              "      <td>Unknown</td>\n",
              "      <td>2</td>\n",
              "    </tr>\n",
              "    <tr>\n",
              "      <th>128</th>\n",
              "      <td>I can haz #iPad2 ifrom #SxSW Gr8 {link}</td>\n",
              "      <td>iPad</td>\n",
              "      <td>3</td>\n",
              "    </tr>\n",
              "  </tbody>\n",
              "</table>\n",
              "</div>\n",
              "      <button class=\"colab-df-convert\" onclick=\"convertToInteractive('df-40a25972-5172-4151-b8e8-713b0e8beac1')\"\n",
              "              title=\"Convert this dataframe to an interactive table.\"\n",
              "              style=\"display:none;\">\n",
              "        \n",
              "  <svg xmlns=\"http://www.w3.org/2000/svg\" height=\"24px\"viewBox=\"0 0 24 24\"\n",
              "       width=\"24px\">\n",
              "    <path d=\"M0 0h24v24H0V0z\" fill=\"none\"/>\n",
              "    <path d=\"M18.56 5.44l.94 2.06.94-2.06 2.06-.94-2.06-.94-.94-2.06-.94 2.06-2.06.94zm-11 1L8.5 8.5l.94-2.06 2.06-.94-2.06-.94L8.5 2.5l-.94 2.06-2.06.94zm10 10l.94 2.06.94-2.06 2.06-.94-2.06-.94-.94-2.06-.94 2.06-2.06.94z\"/><path d=\"M17.41 7.96l-1.37-1.37c-.4-.4-.92-.59-1.43-.59-.52 0-1.04.2-1.43.59L10.3 9.45l-7.72 7.72c-.78.78-.78 2.05 0 2.83L4 21.41c.39.39.9.59 1.41.59.51 0 1.02-.2 1.41-.59l7.78-7.78 2.81-2.81c.8-.78.8-2.07 0-2.86zM5.41 20L4 18.59l7.72-7.72 1.47 1.35L5.41 20z\"/>\n",
              "  </svg>\n",
              "      </button>\n",
              "      \n",
              "  <style>\n",
              "    .colab-df-container {\n",
              "      display:flex;\n",
              "      flex-wrap:wrap;\n",
              "      gap: 12px;\n",
              "    }\n",
              "\n",
              "    .colab-df-convert {\n",
              "      background-color: #E8F0FE;\n",
              "      border: none;\n",
              "      border-radius: 50%;\n",
              "      cursor: pointer;\n",
              "      display: none;\n",
              "      fill: #1967D2;\n",
              "      height: 32px;\n",
              "      padding: 0 0 0 0;\n",
              "      width: 32px;\n",
              "    }\n",
              "\n",
              "    .colab-df-convert:hover {\n",
              "      background-color: #E2EBFA;\n",
              "      box-shadow: 0px 1px 2px rgba(60, 64, 67, 0.3), 0px 1px 3px 1px rgba(60, 64, 67, 0.15);\n",
              "      fill: #174EA6;\n",
              "    }\n",
              "\n",
              "    [theme=dark] .colab-df-convert {\n",
              "      background-color: #3B4455;\n",
              "      fill: #D2E3FC;\n",
              "    }\n",
              "\n",
              "    [theme=dark] .colab-df-convert:hover {\n",
              "      background-color: #434B5C;\n",
              "      box-shadow: 0px 1px 3px 1px rgba(0, 0, 0, 0.15);\n",
              "      filter: drop-shadow(0px 1px 2px rgba(0, 0, 0, 0.3));\n",
              "      fill: #FFFFFF;\n",
              "    }\n",
              "  </style>\n",
              "\n",
              "      <script>\n",
              "        const buttonEl =\n",
              "          document.querySelector('#df-40a25972-5172-4151-b8e8-713b0e8beac1 button.colab-df-convert');\n",
              "        buttonEl.style.display =\n",
              "          google.colab.kernel.accessAllowed ? 'block' : 'none';\n",
              "\n",
              "        async function convertToInteractive(key) {\n",
              "          const element = document.querySelector('#df-40a25972-5172-4151-b8e8-713b0e8beac1');\n",
              "          const dataTable =\n",
              "            await google.colab.kernel.invokeFunction('convertToInteractive',\n",
              "                                                     [key], {});\n",
              "          if (!dataTable) return;\n",
              "\n",
              "          const docLinkHtml = 'Like what you see? Visit the ' +\n",
              "            '<a target=\"_blank\" href=https://colab.research.google.com/notebooks/data_table.ipynb>data table notebook</a>'\n",
              "            + ' to learn more about interactive tables.';\n",
              "          element.innerHTML = '';\n",
              "          dataTable['output_type'] = 'display_data';\n",
              "          await google.colab.output.renderOutput(dataTable, element);\n",
              "          const docLink = document.createElement('div');\n",
              "          docLink.innerHTML = docLinkHtml;\n",
              "          element.appendChild(docLink);\n",
              "        }\n",
              "      </script>\n",
              "    </div>\n",
              "  </div>\n",
              "  "
            ],
            "text/plain": [
              "                                                  text    brand  emotion\n",
              "452  ÛÏ@mention Download 20+ FREE tracks from the ...  Unknown        2\n",
              "851  Getting a look at Google's Impact Dashboard fo...  Unknown        2\n",
              "790  Google to Launch Major New Social Network Call...  Unknown        2\n",
              "206  Wandering 6th street with the girls. Stopped f...  Unknown        2\n",
              "128            I can haz #iPad2 ifrom #SxSW Gr8 {link}     iPad        3"
            ]
          },
          "metadata": {},
          "execution_count": 143
        }
      ]
    },
    {
      "cell_type": "code",
      "source": [
        "final['text']=final['text'].str.lower()"
      ],
      "metadata": {
        "id": "Rj9ZWUpyRIwB"
      },
      "execution_count": 144,
      "outputs": []
    },
    {
      "cell_type": "code",
      "source": [
        "final['text'].tail()"
      ],
      "metadata": {
        "colab": {
          "base_uri": "https://localhost:8080/"
        },
        "id": "AIH6PpwOTFfP",
        "outputId": "5bff5890-17f8-4e38-cd2f-6ba4ba6fa323"
      },
      "execution_count": 145,
      "outputs": [
        {
          "output_type": "execute_result",
          "data": {
            "text/plain": [
              "8974    google guy at #sxsw talk is explaining how he ...\n",
              "8982    i think my effing hubby is in line for an #ipa...\n",
              "9009    i'm pretty sure the panelist that thinks &quot...\n",
              "9044    hey is anyone doing #sxsw signing up for the g...\n",
              "9081    diller says google tv &quot;might be run over ...\n",
              "Name: text, dtype: object"
            ]
          },
          "metadata": {},
          "execution_count": 145
        }
      ]
    },
    {
      "cell_type": "code",
      "source": [
        "import nltk\n",
        "nltk.download('stopwords')\n",
        "from nltk.corpus import stopwords\n",
        "stop_words = set(stopwords.words('english'))"
      ],
      "metadata": {
        "colab": {
          "base_uri": "https://localhost:8080/"
        },
        "id": "TDuXNM7cTJx2",
        "outputId": "f1942687-337c-4444-8c75-9031ffb4e8d4"
      },
      "execution_count": 146,
      "outputs": [
        {
          "output_type": "stream",
          "name": "stdout",
          "text": [
            "[nltk_data] Downloading package stopwords to /root/nltk_data...\n",
            "[nltk_data]   Package stopwords is already up-to-date!\n"
          ]
        }
      ]
    },
    {
      "cell_type": "code",
      "source": [
        "print(stop_words)"
      ],
      "metadata": {
        "colab": {
          "base_uri": "https://localhost:8080/"
        },
        "id": "bsv1sCVrUUpP",
        "outputId": "2463da1a-504d-4873-c512-1f9db8f8b783"
      },
      "execution_count": 147,
      "outputs": [
        {
          "output_type": "stream",
          "name": "stdout",
          "text": [
            "{'but', 'ourselves', 'as', 'all', 'this', 'aren', 'ain', \"you'll\", 'herself', 'between', 'there', \"shouldn't\", 'too', 'hers', 'those', 'on', \"mightn't\", 'after', 'yourself', 'above', 'some', 'when', 'the', \"didn't\", \"hasn't\", 'under', \"weren't\", 'where', 'of', 'into', 'didn', 't', 'up', 'have', \"should've\", \"wasn't\", 'before', 'ours', 'why', 'or', 'shan', 'won', 'any', 'being', 'himself', 'then', 'my', 'than', 'will', 'don', 'been', 'out', 'they', 'until', \"shan't\", 'ma', 'isn', 've', 'y', 'own', 'were', 'weren', \"won't\", 'how', 'having', 'about', 'mightn', 'themselves', 'more', 'them', \"haven't\", 'mustn', 'was', 'myself', \"doesn't\", 'below', 'each', 'over', 'yours', 'by', 'at', 'hasn', 'what', 'with', 'm', 'down', 'doing', 'me', 'against', 'can', 'theirs', 'doesn', \"hadn't\", 'haven', 'to', 'because', \"aren't\", \"you've\", \"you're\", 'a', 'their', 'll', 'is', 'few', 'an', 'be', 'o', 'do', 'itself', 'needn', 'while', 'not', \"don't\", 'does', 'most', 'further', 'who', 'such', 'just', 'that', 'did', 'here', \"needn't\", \"you'd\", 'i', 'wouldn', 'him', 'these', 'has', 'am', 'again', 'during', 'you', \"wouldn't\", 'his', 's', 'we', 'shouldn', \"she's\", 're', 'are', 'couldn', 'if', 'its', 'hadn', 'other', 'through', 'whom', 'your', 'her', 'from', 'in', 'now', 'our', 'once', 'no', 'for', 'and', \"isn't\", 'same', 'she', \"couldn't\", 'wasn', 'so', 'd', \"that'll\", \"it's\", 'very', 'both', 'he', 'only', 'should', 'which', 'it', 'yourselves', \"mustn't\", 'off', 'nor', 'had'}\n"
          ]
        }
      ]
    },
    {
      "cell_type": "code",
      "source": [
        "type(str(text).split())"
      ],
      "metadata": {
        "colab": {
          "base_uri": "https://localhost:8080/"
        },
        "id": "oq4SpMLbgzsH",
        "outputId": "e204c57c-ab3a-4bc5-984c-0a6d48ed00d4"
      },
      "execution_count": 148,
      "outputs": [
        {
          "output_type": "execute_result",
          "data": {
            "text/plain": [
              "list"
            ]
          },
          "metadata": {},
          "execution_count": 148
        }
      ]
    },
    {
      "cell_type": "code",
      "source": [
        "def cleaning_stopwords(text):\n",
        "  return \" \".join([w for w in str(text).split() if w not in stop_words])\n",
        "final['text']=final['text'].apply(lambda text: cleaning_stopwords(text))\n",
        "final['text'].head()"
      ],
      "metadata": {
        "colab": {
          "base_uri": "https://localhost:8080/"
        },
        "id": "E-FJuZIQeEzo",
        "outputId": "9743cf76-4ab6-48e2-870b-98c0139b5d64"
      },
      "execution_count": 149,
      "outputs": [
        {
          "output_type": "execute_result",
          "data": {
            "text/plain": [
              "2    @jessedee know @fludapp ? awesome ipad/iphone ...\n",
              "3           @swonderlin wait #ipad 2 also. sale #sxsw.\n",
              "5    @sxtxstate great stuff fri #sxsw: marissa maye...\n",
              "8    #sxsw starting, #ctia around corner #googleio ...\n",
              "9    beautifully smart simple idea rt @madebymany @...\n",
              "Name: text, dtype: object"
            ]
          },
          "metadata": {},
          "execution_count": 149
        }
      ]
    },
    {
      "cell_type": "code",
      "source": [
        "final.text[13]"
      ],
      "metadata": {
        "colab": {
          "base_uri": "https://localhost:8080/",
          "height": 53
        },
        "id": "uynyYNvYiDvp",
        "outputId": "d9344976-6139-4514-d17c-b96852ae6fc9"
      },
      "execution_count": 150,
      "outputs": [
        {
          "output_type": "execute_result",
          "data": {
            "application/vnd.google.colaboratory.intrinsic+json": {
              "type": "string"
            },
            "text/plain": [
              "'foursquare ups game, time #sxsw http://j.mp/grn7pk) - still prefer @gowalla far, best looking android app date.'"
            ]
          },
          "metadata": {},
          "execution_count": 150
        }
      ]
    },
    {
      "cell_type": "code",
      "source": [
        "import re\n",
        "final['text']  = final['text'].str.replace('http\\S+|www.\\S+', '', case=False)\n",
        "\n",
        "#final['nourltext'] = df['text'].apply(lambda x: re.split('http:\\/\\/.*', str(x))[0])"
      ],
      "metadata": {
        "colab": {
          "base_uri": "https://localhost:8080/"
        },
        "id": "D-FoubTvfaUR",
        "outputId": "541a7c92-2cdf-4814-bf5b-d6566a83fcd6"
      },
      "execution_count": 151,
      "outputs": [
        {
          "output_type": "stream",
          "name": "stderr",
          "text": [
            "/usr/local/lib/python3.7/dist-packages/ipykernel_launcher.py:2: FutureWarning: The default value of regex will change from True to False in a future version.\n",
            "  \n"
          ]
        }
      ]
    },
    {
      "cell_type": "code",
      "source": [
        "final.loc[13]['text']"
      ],
      "metadata": {
        "colab": {
          "base_uri": "https://localhost:8080/",
          "height": 53
        },
        "id": "6HzZF3O2iwjE",
        "outputId": "7c6ffd68-bedf-4617-a5b8-85ce2491b5a4"
      },
      "execution_count": 152,
      "outputs": [
        {
          "output_type": "execute_result",
          "data": {
            "application/vnd.google.colaboratory.intrinsic+json": {
              "type": "string"
            },
            "text/plain": [
              "'foursquare ups game, time #sxsw  - still prefer @gowalla far, best looking android app date.'"
            ]
          },
          "metadata": {},
          "execution_count": 152
        }
      ]
    },
    {
      "cell_type": "code",
      "source": [
        "final['text']=final['text'].str.lower()\n",
        "final.loc[13]['text']\n",
        "final.text"
      ],
      "metadata": {
        "colab": {
          "base_uri": "https://localhost:8080/"
        },
        "id": "97OpTSmOj0Tj",
        "outputId": "ea221592-3eb1-41dc-ba21-7ce9065ffb92"
      },
      "execution_count": 153,
      "outputs": [
        {
          "output_type": "execute_result",
          "data": {
            "text/plain": [
              "2       @jessedee know @fludapp ? awesome ipad/iphone ...\n",
              "3              @swonderlin wait #ipad 2 also. sale #sxsw.\n",
              "5       @sxtxstate great stuff fri #sxsw: marissa maye...\n",
              "8       #sxsw starting, #ctia around corner #googleio ...\n",
              "9       beautifully smart simple idea rt @madebymany @...\n",
              "                              ...                        \n",
              "8974    google guy #sxsw talk explaining made realisti...\n",
              "8982    think effing hubby line #ipad 2. someone point...\n",
              "9009    i'm pretty sure panelist thinks &quot;apple dr...\n",
              "9044    hey anyone #sxsw signing group texting app, gr...\n",
              "9081    diller says google tv &quot;might run playstat...\n",
              "Name: text, Length: 1710, dtype: object"
            ]
          },
          "metadata": {},
          "execution_count": 153
        }
      ]
    },
    {
      "cell_type": "code",
      "source": [
        "#for i in range(0,len(final['text'])):\n",
        "final['text']  = final['text'].str.replace(r'[^a-zA-Z\\s:]', '', case=False)\n",
        "final.text[13]\n",
        "\n",
        "  #df['text'][i] = re.sub(r'[^a-zA-Z\\s:]', ' ', df['text'][i], flags=re.MULTILINE)"
      ],
      "metadata": {
        "colab": {
          "base_uri": "https://localhost:8080/",
          "height": 108
        },
        "id": "-PJNerVsp8Pv",
        "outputId": "4ddd86ce-554a-4f6c-cfff-5d4fac73c431"
      },
      "execution_count": 154,
      "outputs": [
        {
          "output_type": "stream",
          "name": "stderr",
          "text": [
            "/usr/local/lib/python3.7/dist-packages/ipykernel_launcher.py:2: FutureWarning: The default value of regex will change from True to False in a future version.\n",
            "  \n"
          ]
        },
        {
          "output_type": "execute_result",
          "data": {
            "application/vnd.google.colaboratory.intrinsic+json": {
              "type": "string"
            },
            "text/plain": [
              "'foursquare ups game time sxsw   still prefer gowalla far best looking android app date'"
            ]
          },
          "metadata": {},
          "execution_count": 154
        }
      ]
    },
    {
      "cell_type": "code",
      "source": [
        "final['text']=final['text'].str.lower()\n",
        "final['text']\n",
        "np.sum(final.isnull())"
      ],
      "metadata": {
        "colab": {
          "base_uri": "https://localhost:8080/"
        },
        "id": "loQXsItVqInn",
        "outputId": "bb4f1d1d-c254-4684-ad91-974277c8f058"
      },
      "execution_count": 155,
      "outputs": [
        {
          "output_type": "execute_result",
          "data": {
            "text/plain": [
              "text       0\n",
              "brand      0\n",
              "emotion    0\n",
              "dtype: int64"
            ]
          },
          "metadata": {},
          "execution_count": 155
        }
      ]
    },
    {
      "cell_type": "code",
      "source": [
        "import nltk\n",
        "nltk.download('punkt')\n",
        "from nltk.tokenize import word_tokenize"
      ],
      "metadata": {
        "colab": {
          "base_uri": "https://localhost:8080/"
        },
        "id": "eUQgLo65qi2t",
        "outputId": "4fe2dd2c-420d-431b-c0da-a2e95b736413"
      },
      "execution_count": 156,
      "outputs": [
        {
          "output_type": "stream",
          "name": "stdout",
          "text": [
            "[nltk_data] Downloading package punkt to /root/nltk_data...\n",
            "[nltk_data]   Package punkt is already up-to-date!\n"
          ]
        }
      ]
    },
    {
      "cell_type": "code",
      "source": [
        "final.text\n",
        "final.isna"
      ],
      "metadata": {
        "colab": {
          "base_uri": "https://localhost:8080/"
        },
        "id": "q6EZpu7stQ4e",
        "outputId": "b5198375-df3a-4a76-d473-1b2ee343c65b"
      },
      "execution_count": 157,
      "outputs": [
        {
          "output_type": "execute_result",
          "data": {
            "text/plain": [
              "<bound method DataFrame.isna of                                                    text  ... emotion\n",
              "2     jessedee know fludapp  awesome ipadiphone app ...  ...       3\n",
              "3                  swonderlin wait ipad  also sale sxsw  ...       3\n",
              "5     sxtxstate great stuff fri sxsw: marissa mayer ...  ...       3\n",
              "8     sxsw starting ctia around corner googleio hop ...  ...       3\n",
              "9     beautifully smart simple idea rt madebymany th...  ...       3\n",
              "...                                                 ...  ...     ...\n",
              "8974  google guy sxsw talk explaining made realistic...  ...       1\n",
              "8982  think effing hubby line ipad  someone point to...  ...       1\n",
              "9009  im pretty sure panelist thinks quotapple drown...  ...       1\n",
              "9044  hey anyone sxsw signing group texting app grou...  ...       1\n",
              "9081  diller says google tv quotmight run playstatio...  ...       1\n",
              "\n",
              "[1710 rows x 3 columns]>"
            ]
          },
          "metadata": {},
          "execution_count": 157
        }
      ]
    },
    {
      "cell_type": "code",
      "source": [
        "ind=[i for i in range(0,len(final.text))]\n",
        "# final = final.reindex(ind)\n",
        "# np.sum(final.isnull())\n",
        "final['ind']=ind\n",
        "final.set_index('ind',inplace=True)"
      ],
      "metadata": {
        "id": "6nY252qcsL8X"
      },
      "execution_count": 158,
      "outputs": []
    },
    {
      "cell_type": "code",
      "source": [
        "final"
      ],
      "metadata": {
        "colab": {
          "base_uri": "https://localhost:8080/",
          "height": 551
        },
        "id": "Q78Sfs_1t0rR",
        "outputId": "a987ddb6-bd3d-4e75-a77e-71658ba19757"
      },
      "execution_count": 159,
      "outputs": [
        {
          "output_type": "execute_result",
          "data": {
            "text/html": [
              "\n",
              "  <div id=\"df-05e101a0-7767-4ff4-8eae-f110ba02bb58\">\n",
              "    <div class=\"colab-df-container\">\n",
              "      <div>\n",
              "<style scoped>\n",
              "    .dataframe tbody tr th:only-of-type {\n",
              "        vertical-align: middle;\n",
              "    }\n",
              "\n",
              "    .dataframe tbody tr th {\n",
              "        vertical-align: top;\n",
              "    }\n",
              "\n",
              "    .dataframe thead th {\n",
              "        text-align: right;\n",
              "    }\n",
              "</style>\n",
              "<table border=\"1\" class=\"dataframe\">\n",
              "  <thead>\n",
              "    <tr style=\"text-align: right;\">\n",
              "      <th></th>\n",
              "      <th>text</th>\n",
              "      <th>brand</th>\n",
              "      <th>emotion</th>\n",
              "    </tr>\n",
              "    <tr>\n",
              "      <th>ind</th>\n",
              "      <th></th>\n",
              "      <th></th>\n",
              "      <th></th>\n",
              "    </tr>\n",
              "  </thead>\n",
              "  <tbody>\n",
              "    <tr>\n",
              "      <th>0</th>\n",
              "      <td>jessedee know fludapp  awesome ipadiphone app ...</td>\n",
              "      <td>iPad or iPhone App</td>\n",
              "      <td>3</td>\n",
              "    </tr>\n",
              "    <tr>\n",
              "      <th>1</th>\n",
              "      <td>swonderlin wait ipad  also sale sxsw</td>\n",
              "      <td>iPad</td>\n",
              "      <td>3</td>\n",
              "    </tr>\n",
              "    <tr>\n",
              "      <th>2</th>\n",
              "      <td>sxtxstate great stuff fri sxsw: marissa mayer ...</td>\n",
              "      <td>Google</td>\n",
              "      <td>3</td>\n",
              "    </tr>\n",
              "    <tr>\n",
              "      <th>3</th>\n",
              "      <td>sxsw starting ctia around corner googleio hop ...</td>\n",
              "      <td>Android</td>\n",
              "      <td>3</td>\n",
              "    </tr>\n",
              "    <tr>\n",
              "      <th>4</th>\n",
              "      <td>beautifully smart simple idea rt madebymany th...</td>\n",
              "      <td>iPad or iPhone App</td>\n",
              "      <td>3</td>\n",
              "    </tr>\n",
              "    <tr>\n",
              "      <th>...</th>\n",
              "      <td>...</td>\n",
              "      <td>...</td>\n",
              "      <td>...</td>\n",
              "    </tr>\n",
              "    <tr>\n",
              "      <th>1705</th>\n",
              "      <td>google guy sxsw talk explaining made realistic...</td>\n",
              "      <td>Unknown</td>\n",
              "      <td>1</td>\n",
              "    </tr>\n",
              "    <tr>\n",
              "      <th>1706</th>\n",
              "      <td>think effing hubby line ipad  someone point to...</td>\n",
              "      <td>iPad</td>\n",
              "      <td>1</td>\n",
              "    </tr>\n",
              "    <tr>\n",
              "      <th>1707</th>\n",
              "      <td>im pretty sure panelist thinks quotapple drown...</td>\n",
              "      <td>Apple</td>\n",
              "      <td>1</td>\n",
              "    </tr>\n",
              "    <tr>\n",
              "      <th>1708</th>\n",
              "      <td>hey anyone sxsw signing group texting app grou...</td>\n",
              "      <td>Unknown</td>\n",
              "      <td>1</td>\n",
              "    </tr>\n",
              "    <tr>\n",
              "      <th>1709</th>\n",
              "      <td>diller says google tv quotmight run playstatio...</td>\n",
              "      <td>Other Google product or service</td>\n",
              "      <td>1</td>\n",
              "    </tr>\n",
              "  </tbody>\n",
              "</table>\n",
              "<p>1710 rows × 3 columns</p>\n",
              "</div>\n",
              "      <button class=\"colab-df-convert\" onclick=\"convertToInteractive('df-05e101a0-7767-4ff4-8eae-f110ba02bb58')\"\n",
              "              title=\"Convert this dataframe to an interactive table.\"\n",
              "              style=\"display:none;\">\n",
              "        \n",
              "  <svg xmlns=\"http://www.w3.org/2000/svg\" height=\"24px\"viewBox=\"0 0 24 24\"\n",
              "       width=\"24px\">\n",
              "    <path d=\"M0 0h24v24H0V0z\" fill=\"none\"/>\n",
              "    <path d=\"M18.56 5.44l.94 2.06.94-2.06 2.06-.94-2.06-.94-.94-2.06-.94 2.06-2.06.94zm-11 1L8.5 8.5l.94-2.06 2.06-.94-2.06-.94L8.5 2.5l-.94 2.06-2.06.94zm10 10l.94 2.06.94-2.06 2.06-.94-2.06-.94-.94-2.06-.94 2.06-2.06.94z\"/><path d=\"M17.41 7.96l-1.37-1.37c-.4-.4-.92-.59-1.43-.59-.52 0-1.04.2-1.43.59L10.3 9.45l-7.72 7.72c-.78.78-.78 2.05 0 2.83L4 21.41c.39.39.9.59 1.41.59.51 0 1.02-.2 1.41-.59l7.78-7.78 2.81-2.81c.8-.78.8-2.07 0-2.86zM5.41 20L4 18.59l7.72-7.72 1.47 1.35L5.41 20z\"/>\n",
              "  </svg>\n",
              "      </button>\n",
              "      \n",
              "  <style>\n",
              "    .colab-df-container {\n",
              "      display:flex;\n",
              "      flex-wrap:wrap;\n",
              "      gap: 12px;\n",
              "    }\n",
              "\n",
              "    .colab-df-convert {\n",
              "      background-color: #E8F0FE;\n",
              "      border: none;\n",
              "      border-radius: 50%;\n",
              "      cursor: pointer;\n",
              "      display: none;\n",
              "      fill: #1967D2;\n",
              "      height: 32px;\n",
              "      padding: 0 0 0 0;\n",
              "      width: 32px;\n",
              "    }\n",
              "\n",
              "    .colab-df-convert:hover {\n",
              "      background-color: #E2EBFA;\n",
              "      box-shadow: 0px 1px 2px rgba(60, 64, 67, 0.3), 0px 1px 3px 1px rgba(60, 64, 67, 0.15);\n",
              "      fill: #174EA6;\n",
              "    }\n",
              "\n",
              "    [theme=dark] .colab-df-convert {\n",
              "      background-color: #3B4455;\n",
              "      fill: #D2E3FC;\n",
              "    }\n",
              "\n",
              "    [theme=dark] .colab-df-convert:hover {\n",
              "      background-color: #434B5C;\n",
              "      box-shadow: 0px 1px 3px 1px rgba(0, 0, 0, 0.15);\n",
              "      filter: drop-shadow(0px 1px 2px rgba(0, 0, 0, 0.3));\n",
              "      fill: #FFFFFF;\n",
              "    }\n",
              "  </style>\n",
              "\n",
              "      <script>\n",
              "        const buttonEl =\n",
              "          document.querySelector('#df-05e101a0-7767-4ff4-8eae-f110ba02bb58 button.colab-df-convert');\n",
              "        buttonEl.style.display =\n",
              "          google.colab.kernel.accessAllowed ? 'block' : 'none';\n",
              "\n",
              "        async function convertToInteractive(key) {\n",
              "          const element = document.querySelector('#df-05e101a0-7767-4ff4-8eae-f110ba02bb58');\n",
              "          const dataTable =\n",
              "            await google.colab.kernel.invokeFunction('convertToInteractive',\n",
              "                                                     [key], {});\n",
              "          if (!dataTable) return;\n",
              "\n",
              "          const docLinkHtml = 'Like what you see? Visit the ' +\n",
              "            '<a target=\"_blank\" href=https://colab.research.google.com/notebooks/data_table.ipynb>data table notebook</a>'\n",
              "            + ' to learn more about interactive tables.';\n",
              "          element.innerHTML = '';\n",
              "          dataTable['output_type'] = 'display_data';\n",
              "          await google.colab.output.renderOutput(dataTable, element);\n",
              "          const docLink = document.createElement('div');\n",
              "          docLink.innerHTML = docLinkHtml;\n",
              "          element.appendChild(docLink);\n",
              "        }\n",
              "      </script>\n",
              "    </div>\n",
              "  </div>\n",
              "  "
            ],
            "text/plain": [
              "                                                   text  ... emotion\n",
              "ind                                                      ...        \n",
              "0     jessedee know fludapp  awesome ipadiphone app ...  ...       3\n",
              "1                  swonderlin wait ipad  also sale sxsw  ...       3\n",
              "2     sxtxstate great stuff fri sxsw: marissa mayer ...  ...       3\n",
              "3     sxsw starting ctia around corner googleio hop ...  ...       3\n",
              "4     beautifully smart simple idea rt madebymany th...  ...       3\n",
              "...                                                 ...  ...     ...\n",
              "1705  google guy sxsw talk explaining made realistic...  ...       1\n",
              "1706  think effing hubby line ipad  someone point to...  ...       1\n",
              "1707  im pretty sure panelist thinks quotapple drown...  ...       1\n",
              "1708  hey anyone sxsw signing group texting app grou...  ...       1\n",
              "1709  diller says google tv quotmight run playstatio...  ...       1\n",
              "\n",
              "[1710 rows x 3 columns]"
            ]
          },
          "metadata": {},
          "execution_count": 159
        }
      ]
    },
    {
      "cell_type": "code",
      "source": [
        "final['toktext']=[0 for x in final['text']]\n",
        "for i in range(len(final['text'])):\n",
        "  final['toktext'][i]=word_tokenize(str(final['text'][i]))\n",
        "#final.toktext[8]"
      ],
      "metadata": {
        "colab": {
          "base_uri": "https://localhost:8080/"
        },
        "id": "dkye_ay_rZG_",
        "outputId": "dd48fd6e-b669-471e-b99a-ac0aebc0a235"
      },
      "execution_count": 160,
      "outputs": [
        {
          "output_type": "stream",
          "name": "stderr",
          "text": [
            "/usr/local/lib/python3.7/dist-packages/ipykernel_launcher.py:3: SettingWithCopyWarning: \n",
            "A value is trying to be set on a copy of a slice from a DataFrame\n",
            "\n",
            "See the caveats in the documentation: https://pandas.pydata.org/pandas-docs/stable/user_guide/indexing.html#returning-a-view-versus-a-copy\n",
            "  This is separate from the ipykernel package so we can avoid doing imports until\n",
            "/usr/local/lib/python3.7/dist-packages/pandas/core/indexing.py:1732: SettingWithCopyWarning: \n",
            "A value is trying to be set on a copy of a slice from a DataFrame\n",
            "\n",
            "See the caveats in the documentation: https://pandas.pydata.org/pandas-docs/stable/user_guide/indexing.html#returning-a-view-versus-a-copy\n",
            "  self._setitem_single_block(indexer, value, name)\n"
          ]
        }
      ]
    },
    {
      "cell_type": "code",
      "source": [
        "from nltk.stem import PorterStemmer\n",
        "ps = PorterStemmer()\n",
        "final['stemtext']=[[] for x in final.toktext]\n",
        "for i in range(0,len(final.toktext)):\n",
        "  for w in final.toktext[i]:\n",
        "    final['stemtext'][i].append(ps.stem(w))\n",
        "  final['stemtext'][i]=\" \".join(final['stemtext'][i])\n",
        "\n",
        "final.stemtext"
      ],
      "metadata": {
        "colab": {
          "base_uri": "https://localhost:8080/"
        },
        "id": "5Pjg5us6rn1e",
        "outputId": "05d2e7b6-ec41-4809-df38-d3af6debd36f"
      },
      "execution_count": 161,
      "outputs": [
        {
          "output_type": "stream",
          "name": "stderr",
          "text": [
            "/usr/local/lib/python3.7/dist-packages/ipykernel_launcher.py:7: SettingWithCopyWarning: \n",
            "A value is trying to be set on a copy of a slice from a DataFrame\n",
            "\n",
            "See the caveats in the documentation: https://pandas.pydata.org/pandas-docs/stable/user_guide/indexing.html#returning-a-view-versus-a-copy\n",
            "  import sys\n"
          ]
        },
        {
          "output_type": "execute_result",
          "data": {
            "text/plain": [
              "ind\n",
              "0       jessede know fludapp awesom ipadiphon app like...\n",
              "1                     swonderlin wait ipad also sale sxsw\n",
              "2       sxtxstate great stuff fri sxsw : marissa mayer...\n",
              "3       sxsw start ctia around corner googleio hop ski...\n",
              "4       beauti smart simpl idea rt madebymani thenextw...\n",
              "                              ...                        \n",
              "1705    googl guy sxsw talk explain made realist twitt...\n",
              "1706    think ef hubbi line ipad someon point toward l...\n",
              "1707    im pretti sure panelist think quotappl drown s...\n",
              "1708    hey anyon sxsw sign group text app groupm got ...\n",
              "1709    diller say googl tv quotmight run playstat xbo...\n",
              "Name: stemtext, Length: 1710, dtype: object"
            ]
          },
          "metadata": {},
          "execution_count": 161
        }
      ]
    },
    {
      "cell_type": "code",
      "source": [
        "final"
      ],
      "metadata": {
        "colab": {
          "base_uri": "https://localhost:8080/",
          "height": 846
        },
        "id": "KLu01-oxxwEn",
        "outputId": "2d312c45-45df-4acd-886b-310ec10a907a"
      },
      "execution_count": 162,
      "outputs": [
        {
          "output_type": "execute_result",
          "data": {
            "text/html": [
              "\n",
              "  <div id=\"df-dcb9a029-7e34-4733-b259-491b907058cd\">\n",
              "    <div class=\"colab-df-container\">\n",
              "      <div>\n",
              "<style scoped>\n",
              "    .dataframe tbody tr th:only-of-type {\n",
              "        vertical-align: middle;\n",
              "    }\n",
              "\n",
              "    .dataframe tbody tr th {\n",
              "        vertical-align: top;\n",
              "    }\n",
              "\n",
              "    .dataframe thead th {\n",
              "        text-align: right;\n",
              "    }\n",
              "</style>\n",
              "<table border=\"1\" class=\"dataframe\">\n",
              "  <thead>\n",
              "    <tr style=\"text-align: right;\">\n",
              "      <th></th>\n",
              "      <th>text</th>\n",
              "      <th>brand</th>\n",
              "      <th>emotion</th>\n",
              "      <th>toktext</th>\n",
              "      <th>stemtext</th>\n",
              "    </tr>\n",
              "    <tr>\n",
              "      <th>ind</th>\n",
              "      <th></th>\n",
              "      <th></th>\n",
              "      <th></th>\n",
              "      <th></th>\n",
              "      <th></th>\n",
              "    </tr>\n",
              "  </thead>\n",
              "  <tbody>\n",
              "    <tr>\n",
              "      <th>0</th>\n",
              "      <td>jessedee know fludapp  awesome ipadiphone app ...</td>\n",
              "      <td>iPad or iPhone App</td>\n",
              "      <td>3</td>\n",
              "      <td>[jessedee, know, fludapp, awesome, ipadiphone,...</td>\n",
              "      <td>jessede know fludapp awesom ipadiphon app like...</td>\n",
              "    </tr>\n",
              "    <tr>\n",
              "      <th>1</th>\n",
              "      <td>swonderlin wait ipad  also sale sxsw</td>\n",
              "      <td>iPad</td>\n",
              "      <td>3</td>\n",
              "      <td>[swonderlin, wait, ipad, also, sale, sxsw]</td>\n",
              "      <td>swonderlin wait ipad also sale sxsw</td>\n",
              "    </tr>\n",
              "    <tr>\n",
              "      <th>2</th>\n",
              "      <td>sxtxstate great stuff fri sxsw: marissa mayer ...</td>\n",
              "      <td>Google</td>\n",
              "      <td>3</td>\n",
              "      <td>[sxtxstate, great, stuff, fri, sxsw, :, mariss...</td>\n",
              "      <td>sxtxstate great stuff fri sxsw : marissa mayer...</td>\n",
              "    </tr>\n",
              "    <tr>\n",
              "      <th>3</th>\n",
              "      <td>sxsw starting ctia around corner googleio hop ...</td>\n",
              "      <td>Android</td>\n",
              "      <td>3</td>\n",
              "      <td>[sxsw, starting, ctia, around, corner, googlei...</td>\n",
              "      <td>sxsw start ctia around corner googleio hop ski...</td>\n",
              "    </tr>\n",
              "    <tr>\n",
              "      <th>4</th>\n",
              "      <td>beautifully smart simple idea rt madebymany th...</td>\n",
              "      <td>iPad or iPhone App</td>\n",
              "      <td>3</td>\n",
              "      <td>[beautifully, smart, simple, idea, rt, madebym...</td>\n",
              "      <td>beauti smart simpl idea rt madebymani thenextw...</td>\n",
              "    </tr>\n",
              "    <tr>\n",
              "      <th>...</th>\n",
              "      <td>...</td>\n",
              "      <td>...</td>\n",
              "      <td>...</td>\n",
              "      <td>...</td>\n",
              "      <td>...</td>\n",
              "    </tr>\n",
              "    <tr>\n",
              "      <th>1705</th>\n",
              "      <td>google guy sxsw talk explaining made realistic...</td>\n",
              "      <td>Unknown</td>\n",
              "      <td>1</td>\n",
              "      <td>[google, guy, sxsw, talk, explaining, made, re...</td>\n",
              "      <td>googl guy sxsw talk explain made realist twitt...</td>\n",
              "    </tr>\n",
              "    <tr>\n",
              "      <th>1706</th>\n",
              "      <td>think effing hubby line ipad  someone point to...</td>\n",
              "      <td>iPad</td>\n",
              "      <td>1</td>\n",
              "      <td>[think, effing, hubby, line, ipad, someone, po...</td>\n",
              "      <td>think ef hubbi line ipad someon point toward l...</td>\n",
              "    </tr>\n",
              "    <tr>\n",
              "      <th>1707</th>\n",
              "      <td>im pretty sure panelist thinks quotapple drown...</td>\n",
              "      <td>Apple</td>\n",
              "      <td>1</td>\n",
              "      <td>[im, pretty, sure, panelist, thinks, quotapple...</td>\n",
              "      <td>im pretti sure panelist think quotappl drown s...</td>\n",
              "    </tr>\n",
              "    <tr>\n",
              "      <th>1708</th>\n",
              "      <td>hey anyone sxsw signing group texting app grou...</td>\n",
              "      <td>Unknown</td>\n",
              "      <td>1</td>\n",
              "      <td>[hey, anyone, sxsw, signing, group, texting, a...</td>\n",
              "      <td>hey anyon sxsw sign group text app groupm got ...</td>\n",
              "    </tr>\n",
              "    <tr>\n",
              "      <th>1709</th>\n",
              "      <td>diller says google tv quotmight run playstatio...</td>\n",
              "      <td>Other Google product or service</td>\n",
              "      <td>1</td>\n",
              "      <td>[diller, says, google, tv, quotmight, run, pla...</td>\n",
              "      <td>diller say googl tv quotmight run playstat xbo...</td>\n",
              "    </tr>\n",
              "  </tbody>\n",
              "</table>\n",
              "<p>1710 rows × 5 columns</p>\n",
              "</div>\n",
              "      <button class=\"colab-df-convert\" onclick=\"convertToInteractive('df-dcb9a029-7e34-4733-b259-491b907058cd')\"\n",
              "              title=\"Convert this dataframe to an interactive table.\"\n",
              "              style=\"display:none;\">\n",
              "        \n",
              "  <svg xmlns=\"http://www.w3.org/2000/svg\" height=\"24px\"viewBox=\"0 0 24 24\"\n",
              "       width=\"24px\">\n",
              "    <path d=\"M0 0h24v24H0V0z\" fill=\"none\"/>\n",
              "    <path d=\"M18.56 5.44l.94 2.06.94-2.06 2.06-.94-2.06-.94-.94-2.06-.94 2.06-2.06.94zm-11 1L8.5 8.5l.94-2.06 2.06-.94-2.06-.94L8.5 2.5l-.94 2.06-2.06.94zm10 10l.94 2.06.94-2.06 2.06-.94-2.06-.94-.94-2.06-.94 2.06-2.06.94z\"/><path d=\"M17.41 7.96l-1.37-1.37c-.4-.4-.92-.59-1.43-.59-.52 0-1.04.2-1.43.59L10.3 9.45l-7.72 7.72c-.78.78-.78 2.05 0 2.83L4 21.41c.39.39.9.59 1.41.59.51 0 1.02-.2 1.41-.59l7.78-7.78 2.81-2.81c.8-.78.8-2.07 0-2.86zM5.41 20L4 18.59l7.72-7.72 1.47 1.35L5.41 20z\"/>\n",
              "  </svg>\n",
              "      </button>\n",
              "      \n",
              "  <style>\n",
              "    .colab-df-container {\n",
              "      display:flex;\n",
              "      flex-wrap:wrap;\n",
              "      gap: 12px;\n",
              "    }\n",
              "\n",
              "    .colab-df-convert {\n",
              "      background-color: #E8F0FE;\n",
              "      border: none;\n",
              "      border-radius: 50%;\n",
              "      cursor: pointer;\n",
              "      display: none;\n",
              "      fill: #1967D2;\n",
              "      height: 32px;\n",
              "      padding: 0 0 0 0;\n",
              "      width: 32px;\n",
              "    }\n",
              "\n",
              "    .colab-df-convert:hover {\n",
              "      background-color: #E2EBFA;\n",
              "      box-shadow: 0px 1px 2px rgba(60, 64, 67, 0.3), 0px 1px 3px 1px rgba(60, 64, 67, 0.15);\n",
              "      fill: #174EA6;\n",
              "    }\n",
              "\n",
              "    [theme=dark] .colab-df-convert {\n",
              "      background-color: #3B4455;\n",
              "      fill: #D2E3FC;\n",
              "    }\n",
              "\n",
              "    [theme=dark] .colab-df-convert:hover {\n",
              "      background-color: #434B5C;\n",
              "      box-shadow: 0px 1px 3px 1px rgba(0, 0, 0, 0.15);\n",
              "      filter: drop-shadow(0px 1px 2px rgba(0, 0, 0, 0.3));\n",
              "      fill: #FFFFFF;\n",
              "    }\n",
              "  </style>\n",
              "\n",
              "      <script>\n",
              "        const buttonEl =\n",
              "          document.querySelector('#df-dcb9a029-7e34-4733-b259-491b907058cd button.colab-df-convert');\n",
              "        buttonEl.style.display =\n",
              "          google.colab.kernel.accessAllowed ? 'block' : 'none';\n",
              "\n",
              "        async function convertToInteractive(key) {\n",
              "          const element = document.querySelector('#df-dcb9a029-7e34-4733-b259-491b907058cd');\n",
              "          const dataTable =\n",
              "            await google.colab.kernel.invokeFunction('convertToInteractive',\n",
              "                                                     [key], {});\n",
              "          if (!dataTable) return;\n",
              "\n",
              "          const docLinkHtml = 'Like what you see? Visit the ' +\n",
              "            '<a target=\"_blank\" href=https://colab.research.google.com/notebooks/data_table.ipynb>data table notebook</a>'\n",
              "            + ' to learn more about interactive tables.';\n",
              "          element.innerHTML = '';\n",
              "          dataTable['output_type'] = 'display_data';\n",
              "          await google.colab.output.renderOutput(dataTable, element);\n",
              "          const docLink = document.createElement('div');\n",
              "          docLink.innerHTML = docLinkHtml;\n",
              "          element.appendChild(docLink);\n",
              "        }\n",
              "      </script>\n",
              "    </div>\n",
              "  </div>\n",
              "  "
            ],
            "text/plain": [
              "                                                   text  ...                                           stemtext\n",
              "ind                                                      ...                                                   \n",
              "0     jessedee know fludapp  awesome ipadiphone app ...  ...  jessede know fludapp awesom ipadiphon app like...\n",
              "1                  swonderlin wait ipad  also sale sxsw  ...                swonderlin wait ipad also sale sxsw\n",
              "2     sxtxstate great stuff fri sxsw: marissa mayer ...  ...  sxtxstate great stuff fri sxsw : marissa mayer...\n",
              "3     sxsw starting ctia around corner googleio hop ...  ...  sxsw start ctia around corner googleio hop ski...\n",
              "4     beautifully smart simple idea rt madebymany th...  ...  beauti smart simpl idea rt madebymani thenextw...\n",
              "...                                                 ...  ...                                                ...\n",
              "1705  google guy sxsw talk explaining made realistic...  ...  googl guy sxsw talk explain made realist twitt...\n",
              "1706  think effing hubby line ipad  someone point to...  ...  think ef hubbi line ipad someon point toward l...\n",
              "1707  im pretty sure panelist thinks quotapple drown...  ...  im pretti sure panelist think quotappl drown s...\n",
              "1708  hey anyone sxsw signing group texting app grou...  ...  hey anyon sxsw sign group text app groupm got ...\n",
              "1709  diller says google tv quotmight run playstatio...  ...  diller say googl tv quotmight run playstat xbo...\n",
              "\n",
              "[1710 rows x 5 columns]"
            ]
          },
          "metadata": {},
          "execution_count": 162
        }
      ]
    },
    {
      "cell_type": "code",
      "source": [
        "X=pd.concat([final[final['emotion']==1],final[final['emotion']==3]]).stemtext\n",
        "y=pd.concat([final[final['emotion']==1],final[final['emotion']==3]]).emotion\n",
        "#final.text[571]\n",
        "#final.stemtext[8]"
      ],
      "metadata": {
        "id": "6_ajZBFp3OMr"
      },
      "execution_count": 163,
      "outputs": []
    },
    {
      "cell_type": "code",
      "source": [
        "# data_neg = df_neg['text']\n",
        "# plt.figure(figsize = (20,20))\n",
        "# wc = WordCloud(max_words = 1000 , width = 1600 , height = 800,\n",
        "#                collocations=False).generate(\" \".join(data_neg))\n",
        "# plt.imshow(wc)"
      ],
      "metadata": {
        "id": "-UjOlp8e3o2g"
      },
      "execution_count": 164,
      "outputs": []
    },
    {
      "cell_type": "code",
      "source": [
        "df_neg"
      ],
      "metadata": {
        "colab": {
          "base_uri": "https://localhost:8080/",
          "height": 520
        },
        "id": "4pNPw0cO4Srg",
        "outputId": "14365bc8-3fff-4556-f549-2fcf4432a88c"
      },
      "execution_count": 165,
      "outputs": [
        {
          "output_type": "execute_result",
          "data": {
            "text/html": [
              "\n",
              "  <div id=\"df-f17691b4-ffd9-4b07-b8aa-2382eeac5952\">\n",
              "    <div class=\"colab-df-container\">\n",
              "      <div>\n",
              "<style scoped>\n",
              "    .dataframe tbody tr th:only-of-type {\n",
              "        vertical-align: middle;\n",
              "    }\n",
              "\n",
              "    .dataframe tbody tr th {\n",
              "        vertical-align: top;\n",
              "    }\n",
              "\n",
              "    .dataframe thead th {\n",
              "        text-align: right;\n",
              "    }\n",
              "</style>\n",
              "<table border=\"1\" class=\"dataframe\">\n",
              "  <thead>\n",
              "    <tr style=\"text-align: right;\">\n",
              "      <th></th>\n",
              "      <th>text</th>\n",
              "      <th>brand</th>\n",
              "      <th>emotion</th>\n",
              "    </tr>\n",
              "  </thead>\n",
              "  <tbody>\n",
              "    <tr>\n",
              "      <th>1</th>\n",
              "      <td>.@wesley83 I have a 3G iPhone. After 3 hrs twe...</td>\n",
              "      <td>iPhone</td>\n",
              "      <td>1</td>\n",
              "    </tr>\n",
              "    <tr>\n",
              "      <th>4</th>\n",
              "      <td>@sxsw I hope this year's festival isn't as cra...</td>\n",
              "      <td>iPad or iPhone App</td>\n",
              "      <td>1</td>\n",
              "    </tr>\n",
              "    <tr>\n",
              "      <th>18</th>\n",
              "      <td>I just noticed DST is coming this weekend. How...</td>\n",
              "      <td>iPhone</td>\n",
              "      <td>1</td>\n",
              "    </tr>\n",
              "    <tr>\n",
              "      <th>39</th>\n",
              "      <td>@mention  - False Alarm: Google Circles Not Co...</td>\n",
              "      <td>Google</td>\n",
              "      <td>1</td>\n",
              "    </tr>\n",
              "    <tr>\n",
              "      <th>65</th>\n",
              "      <td>Again? RT @mention Line at the Apple store is ...</td>\n",
              "      <td>Unknown</td>\n",
              "      <td>1</td>\n",
              "    </tr>\n",
              "    <tr>\n",
              "      <th>...</th>\n",
              "      <td>...</td>\n",
              "      <td>...</td>\n",
              "      <td>...</td>\n",
              "    </tr>\n",
              "    <tr>\n",
              "      <th>8974</th>\n",
              "      <td>Google guy at #sxsw talk is explaining how he ...</td>\n",
              "      <td>Unknown</td>\n",
              "      <td>1</td>\n",
              "    </tr>\n",
              "    <tr>\n",
              "      <th>8982</th>\n",
              "      <td>I think my effing hubby is in line for an #iPa...</td>\n",
              "      <td>iPad</td>\n",
              "      <td>1</td>\n",
              "    </tr>\n",
              "    <tr>\n",
              "      <th>9009</th>\n",
              "      <td>I'm pretty sure the panelist that thinks &amp;quot...</td>\n",
              "      <td>Apple</td>\n",
              "      <td>1</td>\n",
              "    </tr>\n",
              "    <tr>\n",
              "      <th>9044</th>\n",
              "      <td>Hey is anyone doing #sxsw signing up for the g...</td>\n",
              "      <td>Unknown</td>\n",
              "      <td>1</td>\n",
              "    </tr>\n",
              "    <tr>\n",
              "      <th>9081</th>\n",
              "      <td>Diller says Google TV &amp;quot;might be run over ...</td>\n",
              "      <td>Other Google product or service</td>\n",
              "      <td>1</td>\n",
              "    </tr>\n",
              "  </tbody>\n",
              "</table>\n",
              "<p>570 rows × 3 columns</p>\n",
              "</div>\n",
              "      <button class=\"colab-df-convert\" onclick=\"convertToInteractive('df-f17691b4-ffd9-4b07-b8aa-2382eeac5952')\"\n",
              "              title=\"Convert this dataframe to an interactive table.\"\n",
              "              style=\"display:none;\">\n",
              "        \n",
              "  <svg xmlns=\"http://www.w3.org/2000/svg\" height=\"24px\"viewBox=\"0 0 24 24\"\n",
              "       width=\"24px\">\n",
              "    <path d=\"M0 0h24v24H0V0z\" fill=\"none\"/>\n",
              "    <path d=\"M18.56 5.44l.94 2.06.94-2.06 2.06-.94-2.06-.94-.94-2.06-.94 2.06-2.06.94zm-11 1L8.5 8.5l.94-2.06 2.06-.94-2.06-.94L8.5 2.5l-.94 2.06-2.06.94zm10 10l.94 2.06.94-2.06 2.06-.94-2.06-.94-.94-2.06-.94 2.06-2.06.94z\"/><path d=\"M17.41 7.96l-1.37-1.37c-.4-.4-.92-.59-1.43-.59-.52 0-1.04.2-1.43.59L10.3 9.45l-7.72 7.72c-.78.78-.78 2.05 0 2.83L4 21.41c.39.39.9.59 1.41.59.51 0 1.02-.2 1.41-.59l7.78-7.78 2.81-2.81c.8-.78.8-2.07 0-2.86zM5.41 20L4 18.59l7.72-7.72 1.47 1.35L5.41 20z\"/>\n",
              "  </svg>\n",
              "      </button>\n",
              "      \n",
              "  <style>\n",
              "    .colab-df-container {\n",
              "      display:flex;\n",
              "      flex-wrap:wrap;\n",
              "      gap: 12px;\n",
              "    }\n",
              "\n",
              "    .colab-df-convert {\n",
              "      background-color: #E8F0FE;\n",
              "      border: none;\n",
              "      border-radius: 50%;\n",
              "      cursor: pointer;\n",
              "      display: none;\n",
              "      fill: #1967D2;\n",
              "      height: 32px;\n",
              "      padding: 0 0 0 0;\n",
              "      width: 32px;\n",
              "    }\n",
              "\n",
              "    .colab-df-convert:hover {\n",
              "      background-color: #E2EBFA;\n",
              "      box-shadow: 0px 1px 2px rgba(60, 64, 67, 0.3), 0px 1px 3px 1px rgba(60, 64, 67, 0.15);\n",
              "      fill: #174EA6;\n",
              "    }\n",
              "\n",
              "    [theme=dark] .colab-df-convert {\n",
              "      background-color: #3B4455;\n",
              "      fill: #D2E3FC;\n",
              "    }\n",
              "\n",
              "    [theme=dark] .colab-df-convert:hover {\n",
              "      background-color: #434B5C;\n",
              "      box-shadow: 0px 1px 3px 1px rgba(0, 0, 0, 0.15);\n",
              "      filter: drop-shadow(0px 1px 2px rgba(0, 0, 0, 0.3));\n",
              "      fill: #FFFFFF;\n",
              "    }\n",
              "  </style>\n",
              "\n",
              "      <script>\n",
              "        const buttonEl =\n",
              "          document.querySelector('#df-f17691b4-ffd9-4b07-b8aa-2382eeac5952 button.colab-df-convert');\n",
              "        buttonEl.style.display =\n",
              "          google.colab.kernel.accessAllowed ? 'block' : 'none';\n",
              "\n",
              "        async function convertToInteractive(key) {\n",
              "          const element = document.querySelector('#df-f17691b4-ffd9-4b07-b8aa-2382eeac5952');\n",
              "          const dataTable =\n",
              "            await google.colab.kernel.invokeFunction('convertToInteractive',\n",
              "                                                     [key], {});\n",
              "          if (!dataTable) return;\n",
              "\n",
              "          const docLinkHtml = 'Like what you see? Visit the ' +\n",
              "            '<a target=\"_blank\" href=https://colab.research.google.com/notebooks/data_table.ipynb>data table notebook</a>'\n",
              "            + ' to learn more about interactive tables.';\n",
              "          element.innerHTML = '';\n",
              "          dataTable['output_type'] = 'display_data';\n",
              "          await google.colab.output.renderOutput(dataTable, element);\n",
              "          const docLink = document.createElement('div');\n",
              "          docLink.innerHTML = docLinkHtml;\n",
              "          element.appendChild(docLink);\n",
              "        }\n",
              "      </script>\n",
              "    </div>\n",
              "  </div>\n",
              "  "
            ],
            "text/plain": [
              "                                                   text  ... emotion\n",
              "1     .@wesley83 I have a 3G iPhone. After 3 hrs twe...  ...       1\n",
              "4     @sxsw I hope this year's festival isn't as cra...  ...       1\n",
              "18    I just noticed DST is coming this weekend. How...  ...       1\n",
              "39    @mention  - False Alarm: Google Circles Not Co...  ...       1\n",
              "65    Again? RT @mention Line at the Apple store is ...  ...       1\n",
              "...                                                 ...  ...     ...\n",
              "8974  Google guy at #sxsw talk is explaining how he ...  ...       1\n",
              "8982  I think my effing hubby is in line for an #iPa...  ...       1\n",
              "9009  I'm pretty sure the panelist that thinks &quot...  ...       1\n",
              "9044  Hey is anyone doing #sxsw signing up for the g...  ...       1\n",
              "9081  Diller says Google TV &quot;might be run over ...  ...       1\n",
              "\n",
              "[570 rows x 3 columns]"
            ]
          },
          "metadata": {},
          "execution_count": 165
        }
      ]
    },
    {
      "cell_type": "code",
      "source": [
        "# data_pos = df_pos['text']\n",
        "# plt.figure(figsize = (20,20))\n",
        "# wc = WordCloud(max_words = 1000 , width = 1600 , height = 800,\n",
        "#                collocations=False).generate(\" \".join(data_pos))\n",
        "# plt.imshow(wc)"
      ],
      "metadata": {
        "id": "2eGR4DD05JY5"
      },
      "execution_count": 166,
      "outputs": []
    },
    {
      "cell_type": "code",
      "source": [
        "X_train,X_test,y_train,y_test=train_test_split(X,y,test_size=0.05,random_state=26105111)"
      ],
      "metadata": {
        "id": "meO3GjfX6vZg"
      },
      "execution_count": 167,
      "outputs": []
    },
    {
      "cell_type": "code",
      "source": [
        "# for i in range(0,len(X_train)):\n",
        "#   X_train[i]=' '.join(X_train[i])\n",
        "# X_train"
      ],
      "metadata": {
        "id": "e6UfLH39_Q1U"
      },
      "execution_count": 168,
      "outputs": []
    },
    {
      "cell_type": "code",
      "source": [
        "temp = X_test"
      ],
      "metadata": {
        "id": "N97MjQ2gqFPI"
      },
      "execution_count": 169,
      "outputs": []
    },
    {
      "cell_type": "code",
      "source": [
        "vectoriser = TfidfVectorizer(ngram_range=(1,2), max_features=500000)\n",
        "vectoriser.fit(X_train)\n",
        "print('No. of feature_words: ', len(vectoriser.get_feature_names()))"
      ],
      "metadata": {
        "colab": {
          "base_uri": "https://localhost:8080/"
        },
        "id": "gsiu0Xs16fbU",
        "outputId": "3afbd544-ba7f-4270-b86c-7fc38cfddc7f"
      },
      "execution_count": 170,
      "outputs": [
        {
          "output_type": "stream",
          "name": "stdout",
          "text": [
            "No. of feature_words:  10394\n"
          ]
        },
        {
          "output_type": "stream",
          "name": "stderr",
          "text": [
            "/usr/local/lib/python3.7/dist-packages/sklearn/utils/deprecation.py:87: FutureWarning: Function get_feature_names is deprecated; get_feature_names is deprecated in 1.0 and will be removed in 1.2. Please use get_feature_names_out instead.\n",
            "  warnings.warn(msg, category=FutureWarning)\n"
          ]
        }
      ]
    },
    {
      "cell_type": "code",
      "source": [
        "X_train"
      ],
      "metadata": {
        "colab": {
          "base_uri": "https://localhost:8080/"
        },
        "id": "tsdXd7lQhj19",
        "outputId": "853848bf-a327-4492-d782-574b212ebe3a"
      },
      "execution_count": 171,
      "outputs": [
        {
          "output_type": "execute_result",
          "data": {
            "text/plain": [
              "ind\n",
              "245     room full peopl wgood wifi sxsw run frostwir a...\n",
              "337     technew omgjk : kiss ipad slap xoom link techn...\n",
              "241     idea startupbu thing addict : link sxsw also a...\n",
              "1704        hmmmtaxi magic iphon appear magic austin sxsw\n",
              "1571    rt mention fan new sxsw trend audienc share op...\n",
              "                              ...                        \n",
              "1389    mention im go sxsw let meet up cant use mentio...\n",
              "1525    rt mention best thing ive heard weekend sxsw q...\n",
              "46      fast fun amp futur : mention googl present sxs...\n",
              "263     cool iphon app launch sxsw flypost : commun bu...\n",
              "1553    rt mention yet walk confer room look like appl...\n",
              "Name: stemtext, Length: 1083, dtype: object"
            ]
          },
          "metadata": {},
          "execution_count": 171
        }
      ]
    },
    {
      "cell_type": "code",
      "source": [
        "\n",
        "X_train = vectoriser.transform(X_train)\n",
        "X_test = vectoriser.transform(X_test)"
      ],
      "metadata": {
        "id": "uKJuMZzshJfw"
      },
      "execution_count": 172,
      "outputs": []
    },
    {
      "cell_type": "code",
      "source": [
        "print(X_train)"
      ],
      "metadata": {
        "colab": {
          "base_uri": "https://localhost:8080/"
        },
        "id": "4mLoVylGhSog",
        "outputId": "e1f4f8f0-d4f1-4cdc-f444-f08ed515d432"
      },
      "execution_count": 173,
      "outputs": [
        {
          "output_type": "stream",
          "name": "stdout",
          "text": [
            "  (0, 10206)\t0.2111749269057772\n",
            "  (0, 10066)\t0.2111749269057772\n",
            "  (0, 10064)\t0.1775020569129992\n",
            "  (0, 10029)\t0.2111749269057772\n",
            "  (0, 10028)\t0.2111749269057772\n",
            "  (0, 9804)\t0.2111749269057772\n",
            "  (0, 9801)\t0.19551793399255818\n",
            "  (0, 8803)\t0.2023573657653809\n",
            "  (0, 8571)\t0.031134855369785976\n",
            "  (0, 7890)\t0.2111749269057772\n",
            "  (0, 7887)\t0.1686844957726029\n",
            "  (0, 7642)\t0.2111749269057772\n",
            "  (0, 7637)\t0.1686844957726029\n",
            "  (0, 7598)\t0.2023573657653809\n",
            "  (0, 7596)\t0.16623115739548672\n",
            "  (0, 6749)\t0.2111749269057772\n",
            "  (0, 6747)\t0.17135142642273832\n",
            "  (0, 6678)\t0.2111749269057772\n",
            "  (0, 6651)\t0.12886099528956405\n",
            "  (0, 5108)\t0.2111749269057772\n",
            "  (0, 5050)\t0.0660984578493785\n",
            "  (0, 3015)\t0.2111749269057772\n",
            "  (0, 3012)\t0.18992971133919004\n",
            "  (0, 2997)\t0.2023573657653809\n",
            "  (0, 2996)\t0.2023573657653809\n",
            "  :\t:\n",
            "  (1082, 9875)\t0.2351583030595853\n",
            "  (1082, 9872)\t0.1825808124478756\n",
            "  (1082, 9246)\t0.2351583030595853\n",
            "  (1082, 9231)\t0.15229594400737892\n",
            "  (1082, 8571)\t0.03467087623537464\n",
            "  (1082, 7623)\t0.09250618577616015\n",
            "  (1082, 7615)\t0.09130847116195027\n",
            "  (1082, 7601)\t0.2351583030595853\n",
            "  (1082, 7596)\t0.18511021863024055\n",
            "  (1082, 6265)\t0.2351583030595853\n",
            "  (1082, 6264)\t0.1976611669995795\n",
            "  (1082, 5824)\t0.2351583030595853\n",
            "  (1082, 5573)\t0.06207820868102587\n",
            "  (1082, 5204)\t0.1940650688749504\n",
            "  (1082, 5195)\t0.1503450493716298\n",
            "  (1082, 4960)\t0.21772312768892527\n",
            "  (1082, 4958)\t0.13290987400096976\n",
            "  (1082, 2370)\t0.2351583030595853\n",
            "  (1082, 2364)\t0.1976611669995795\n",
            "  (1082, 1645)\t0.2351583030595853\n",
            "  (1082, 1644)\t0.2351583030595853\n",
            "  (1082, 473)\t0.2351583030595853\n",
            "  (1082, 472)\t0.08286178957162504\n",
            "  (1082, 48)\t0.2351583030595853\n",
            "  (1082, 42)\t0.1940650688749504\n"
          ]
        }
      ]
    },
    {
      "cell_type": "code",
      "source": [
        "# def model_Evaluate(model):\n",
        "#   # Predict values for Test dataset\n",
        "#   y_pred = model.predict(X_test)\n",
        "#   # Print the evaluation metrics for the dataset.\n",
        "#   print(classification_report(y_test, y_pred))"
      ],
      "metadata": {
        "id": "gThyGJi1jGlK"
      },
      "execution_count": 174,
      "outputs": []
    },
    {
      "cell_type": "code",
      "source": [
        "def model_Evaluate(model):\n",
        "  # Predict values for Test dataset\n",
        "  y_pred = model.predict(X_test)\n",
        "  # Print the evaluation metrics for the dataset.\n",
        "  print(classification_report(y_test, y_pred))\n",
        "  # Compute and plot the Confusion matrix\n",
        "  cf_matrix = confusion_matrix(y_test, y_pred)\n",
        "  categories = ['Negative','Positive']\n",
        "  group_names = ['True Neg','False Pos', 'False Neg','True Pos']\n",
        "  group_percentages = ['{0:.2%}'.format(value) for value in cf_matrix.flatten() / np.sum(cf_matrix)]\n",
        "  labels = [f'{v1}n{v2}' for v1, v2 in zip(group_names,group_percentages)]\n",
        "  labels = np.asarray(labels).reshape(2,2)\n",
        "  sns.heatmap(cf_matrix, annot = labels, cmap = 'Blues',fmt = '',\n",
        "  xticklabels = categories, yticklabels = categories)\n",
        "  plt.xlabel(\"Predicted values\", fontdict = {'size':14}, labelpad = 10)\n",
        "  plt.ylabel(\"Actual values\" , fontdict = {'size':14}, labelpad = 10)\n",
        "  plt.title (\"Confusion Matrix\", fontdict = {'size':18}, pad = 20)"
      ],
      "metadata": {
        "id": "Qvjks8rHi5-T"
      },
      "execution_count": 175,
      "outputs": []
    },
    {
      "cell_type": "code",
      "source": [
        "LRmodel = LogisticRegression(C=5,max_iter=500,n_jobs=-1)\n",
        "LRmodel.fit(X_train,y_train)\n",
        "model_Evaluate(LRmodel)\n",
        "y_pred = LRmodel.predict(X_test)"
      ],
      "metadata": {
        "colab": {
          "base_uri": "https://localhost:8080/",
          "height": 479
        },
        "id": "HwDdNHhHhs77",
        "outputId": "b0f66ccb-9c55-4b73-d96e-3c1eb34142a9"
      },
      "execution_count": 176,
      "outputs": [
        {
          "output_type": "stream",
          "name": "stdout",
          "text": [
            "              precision    recall  f1-score   support\n",
            "\n",
            "           1       0.90      0.61      0.73        31\n",
            "           3       0.67      0.92      0.77        26\n",
            "\n",
            "    accuracy                           0.75        57\n",
            "   macro avg       0.79      0.77      0.75        57\n",
            "weighted avg       0.80      0.75      0.75        57\n",
            "\n"
          ]
        },
        {
          "output_type": "display_data",
          "data": {
            "image/png": "[encoded data removed]",
            "text/plain": [
              "<Figure size 432x288 with 2 Axes>"
            ]
          },
          "metadata": {
            "needs_background": "light"
          }
        }
      ]
    },
    {
      "cell_type": "code",
      "source": [
        "y_pred = LRmodel.predict(X_test[0])\n",
        "print(final['text'][149])\n",
        "print(y_pred)\n",
        "#temp"
      ],
      "metadata": {
        "colab": {
          "base_uri": "https://localhost:8080/"
        },
        "id": "iP-hihBdom2f",
        "outputId": "a9f7f934-597e-47a0-f7d3-e072e2e6aec2"
      },
      "execution_count": 189,
      "outputs": [
        {
          "output_type": "stream",
          "name": "stdout",
          "text": [
            "impulsive buy  friends sxsw gt one too selling st gen gb g ipad\n",
            "[3]\n"
          ]
        }
      ]
    },
    {
      "cell_type": "code",
      "source": [
        ""
      ],
      "metadata": {
        "id": "s9sQ8Pqepbq7"
      },
      "execution_count": null,
      "outputs": []
    }
  ]
}